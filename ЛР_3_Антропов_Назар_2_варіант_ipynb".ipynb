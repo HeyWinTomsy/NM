{
  "nbformat": 4,
  "nbformat_minor": 0,
  "metadata": {
    "colab": {
      "provenance": [],
      "include_colab_link": true
    },
    "kernelspec": {
      "name": "python3",
      "display_name": "Python 3"
    },
    "language_info": {
      "name": "python"
    }
  },
  "cells": [
    {
      "cell_type": "markdown",
      "metadata": {
        "id": "view-in-github",
        "colab_type": "text"
      },
      "source": [
        "<a href=\"https://colab.research.google.com/github/HeyWinTomsy/NM/blob/main/%D0%9B%D0%A0_3_%D0%90%D0%BD%D1%82%D1%80%D0%BE%D0%BF%D0%BE%D0%B2_%D0%9D%D0%B0%D0%B7%D0%B0%D1%80_2_%D0%B2%D0%B0%D1%80%D1%96%D0%B0%D0%BD%D1%82_ipynb%22.ipynb\" target=\"_parent\"><img src=\"https://colab.research.google.com/assets/colab-badge.svg\" alt=\"Open In Colab\"/></a>"
      ]
    },
    {
      "cell_type": "markdown",
      "source": [
        "Філімонова Тетяна. Варіант 3"
      ],
      "metadata": {
        "id": "HlvFbYQzhdIu"
      }
    },
    {
      "cell_type": "markdown",
      "source": [
        "1. Метод ділення навпіл."
      ],
      "metadata": {
        "id": "VgrW9zRY0dVt"
      }
    },
    {
      "cell_type": "code",
      "execution_count": null,
      "metadata": {
        "colab": {
          "base_uri": "https://localhost:8080/"
        },
        "id": "iOTNXySVyeHy",
        "outputId": "62dafd1c-975d-4b94-f5e4-7a13e4cfbf3f"
      },
      "outputs": [
        {
          "output_type": "stream",
          "name": "stdout",
          "text": [
            "Результати обчислень\n",
            "\n",
            "          a      F(a)         c      F(c)       b      F(b)\n",
            "0 -3.000000  0.977954 -2.000000  1.135204 -1.0000 -0.454649\n",
            "1 -2.000000  1.135204 -1.500000 -0.123480 -1.0000 -0.454649\n",
            "2 -2.000000  1.135204 -1.750000  0.405593 -1.5000 -0.123480\n",
            "3 -1.750000  0.405593 -1.625000  0.109040 -1.5000 -0.123480\n",
            "4 -1.625000  0.109040 -1.562500 -0.015587 -1.5000 -0.123480\n",
            "5 -1.625000  0.109040 -1.593750  0.044659 -1.5625 -0.015587\n",
            "6 -1.593750  0.044659 -1.578125  0.014015 -1.5625 -0.015587\n",
            "7 -1.578125  0.014015 -1.570312 -0.000917 -1.5625 -0.015587\n",
            "\n",
            "В точці с =  -1.5703125 , f(c) =  -0.0009171268569415665\n"
          ]
        }
      ],
      "source": [
        "import numpy as np\n",
        "import pandas as pd\n",
        "\n",
        "# Визначаємо функцію\n",
        "def f (x):\n",
        "    y = np.cos(x)*np.sin(x)*(x**2+x+1)\n",
        "    return y\n",
        "# Визначаємо границі відрізку\n",
        "a = -3\n",
        "b = -1\n",
        "# Визначаємо точність розв'язку\n",
        "h = 0.001\n",
        "# Поділяємо відрізок навпіл\n",
        "c = (a+b)/2\n",
        "# Зберігаємо результати обчислень\n",
        "data_A = [a]\n",
        "data_B = [b]\n",
        "data_C = [c]\n",
        "data_F_A = [f(a)]\n",
        "data_F_B = [f(b)]\n",
        "data_F_C = [f(c)]\n",
        "# Перевіряємо досягнення точності\n",
        "while abs(f(c)) > h:\n",
        "    # Звужуємо відрізок\n",
        "    if np.sign(f(c)) == np.sign(f(a)):\n",
        "        a = c\n",
        "    else:\n",
        "        b = c\n",
        "    # Поділяємо відрізок навпіл\n",
        "    c = (a+b)/2\n",
        "    # Зберігаємо результати обчислень\n",
        "    data_A.append(a)\n",
        "    data_B.append(b)\n",
        "    data_C.append(c)\n",
        "    data_F_A.append(f(a))\n",
        "    data_F_B.append(f(b))\n",
        "    data_F_C.append(f(c))\n",
        "# Відображаємо результати обчислень\n",
        "print('Результати обчислень')\n",
        "print()\n",
        "data = pd.DataFrame({'a': data_A,\n",
        "                     'F(a)': data_F_A,\n",
        "                     'c': data_C,\n",
        "                     'F(c)': data_F_C,\n",
        "                     'b': data_B,\n",
        "                     'F(b)': data_F_B})\n",
        "print(data)\n",
        "# Відображаємо наближений корінь рівняння\n",
        "print()\n",
        "print('В точці с = ', c, ', f(c) = ', f(c))"
      ]
    },
    {
      "cell_type": "markdown",
      "source": [
        "2. Метод ділення навпіл"
      ],
      "metadata": {
        "id": "5hYa7ucn0PEN"
      }
    },
    {
      "cell_type": "code",
      "source": [
        "import numpy as np\n",
        "import scipy.optimize as sp\n",
        "\n",
        "def f(x):\n",
        "    y = np.cos(x)*np.sin(x)*(x**2+x+1)\n",
        "    return y\n",
        "\n",
        "a, b = -3, -1\n",
        "tol = 1.e-3\n",
        "\n",
        "x = sp.bisect(f, a, b,(),tol) #функція для метода\n",
        "\n",
        "print('The approximate solution x is:', x)\n",
        "print('And the value f(x) is:', f(x))"
      ],
      "metadata": {
        "colab": {
          "base_uri": "https://localhost:8080/"
        },
        "id": "ML3KEw5q0H1e",
        "outputId": "603baec2-afef-4529-8172-77fe34c4d713"
      },
      "execution_count": null,
      "outputs": [
        {
          "output_type": "stream",
          "name": "stdout",
          "text": [
            "The approximate solution x is: -1.5712890625\n",
            "And the value f(x) is: 0.0009350448126615916\n"
          ]
        }
      ]
    },
    {
      "cell_type": "markdown",
      "source": [
        "3. Метод хорд"
      ],
      "metadata": {
        "id": "sYf0IvR41ufd"
      }
    },
    {
      "cell_type": "code",
      "source": [
        "import numpy as np\n",
        "import pandas as pd\n",
        "# Визначаємо функцію\n",
        "def f(x):\n",
        "    y = np.cos(x)*np.sin(x)*(x**2+x+1)\n",
        "    return y\n",
        "# Визначаємо межі відрізку\n",
        "a = -3\n",
        "b = -1\n",
        "# Визначаємо точність розв'язку\n",
        "h = 0.001\n",
        "# Точка, де хорда перетинає вісь 0x\n",
        "c = (f(a)*b-a*f(b))/(f(a)-f(b))\n",
        "\n",
        "# Зберігаємо результати обчислень\n",
        "data_A = [a]\n",
        "data_B = [b]\n",
        "data_C = [c]\n",
        "data_F_A = [f(a)]\n",
        "data_F_B = [f(b)]\n",
        "data_F_C = [f(c)]\n",
        "# Перевіряємо досягнення точності\n",
        "while abs(f(c)) > h:\n",
        "    # Звужуємо відрізок\n",
        "    if np.sign(f(c)) == np.sign(f(a)):\n",
        "        a = c\n",
        "    else:\n",
        "        b = c\n",
        "    # Точка, де хорда перетинає вісь 0x\n",
        "    c = (f(a)*b-a*f(b))/(f(a)-f(b))\n",
        "    # Зберігаємо результати обчислень\n",
        "    data_A.append(a)\n",
        "    data_B.append(b)\n",
        "    data_C.append(c)\n",
        "    data_F_A.append(f(a))\n",
        "    data_F_B.append(f(b))\n",
        "    data_F_C.append(f(c))\n",
        "# Відображаємо результати обчислень\n",
        "print('Результати обчислень')\n",
        "print()\n",
        "data = pd.DataFrame({'a': data_A, 'F(a)': data_F_A,\n",
        "                     'c': data_C, 'F(c)': data_F_C,\n",
        "                     'b': data_B, 'F(b)': data_F_B})\n",
        "print(data)\n",
        "# Відображаємо наближений корінь рівняння\n",
        "print()\n",
        "print('В точці с = ', c, ', f(c) = ', f(c))"
      ],
      "metadata": {
        "colab": {
          "base_uri": "https://localhost:8080/"
        },
        "id": "3p6i5xHK1y3l",
        "outputId": "2d964f9b-652e-4995-987f-b0dd377e32e5"
      },
      "execution_count": null,
      "outputs": [
        {
          "output_type": "stream",
          "name": "stdout",
          "text": [
            "Результати обчислень\n",
            "\n",
            "          a      F(a)         c      F(c)         b      F(b)\n",
            "0 -3.000000  0.977954 -1.634717  0.129889 -1.000000 -0.454649\n",
            "1 -1.634717  0.129889 -1.493678 -0.133455 -1.000000 -0.454649\n",
            "2 -1.634717  0.129889 -1.565152 -0.010636 -1.493678 -0.133455\n",
            "3 -1.634717  0.129889 -1.570418 -0.000718 -1.565152 -0.010636\n",
            "\n",
            "В точці с =  -1.5704175737258015 , f(c) =  -0.0007180376446871882\n"
          ]
        }
      ]
    },
    {
      "cell_type": "markdown",
      "source": [
        "4. Метод Ньютона (дотичних)"
      ],
      "metadata": {
        "id": "40blPBSK2Cdm"
      }
    },
    {
      "cell_type": "code",
      "source": [
        "import numpy as np\n",
        "import pandas as pd\n",
        "# Визначаємо функцію\n",
        "def f(x):\n",
        "    y = np.cos(x)*np.sin(x)*(x**2+x+1)\n",
        "    return y\n",
        "# Визначаємо першу похідну\n",
        "def df(x):\n",
        "    y1 = -(x**2+x+1)*(np.sin(x))**2\n",
        "    y2 = (x**2+x+1)*(np.cos(x))**2\n",
        "    y3 = (2*x+1)*np.sin(x)*np.cos(x)\n",
        "    y = y1+y2+y3\n",
        "    return y\n",
        "# Визначаємо початкову точку\n",
        "c = -1.4\n",
        "# Визначаємо точність розв'язку\n",
        "h = 0.001\n",
        "# Зберігаємо результати обчислень\n",
        "data_C = [c]\n",
        "data_F_C = [f(c)]\n",
        "# Перевіряємо досягнення точності\n",
        "while abs(f(c)) > h:\n",
        "    # Точка, де дотична перетинає вісь 0x\n",
        "    c -= f(c)/df(c)\n",
        "    # Зберігаємо результати обчислень\n",
        "    data_C.append(c)\n",
        "    data_F_C.append(f(c))\n",
        "# Відображаємо результати обчислень\n",
        "print('Результати обчислень')\n",
        "print()\n",
        "data = pd.DataFrame({'c': data_C, 'F(c)': data_F_C})\n",
        "print(data)\n",
        "# Відображаємо наближений корінь рівняння\n",
        "print()\n",
        "print('В точці с = ', c, ', f(c) = ', f(c))"
      ],
      "metadata": {
        "colab": {
          "base_uri": "https://localhost:8080/"
        },
        "id": "WeGQjbjW2HDz",
        "outputId": "41eba2b6-7cb8-4a5f-c4bf-95fe00cef792"
      },
      "execution_count": null,
      "outputs": [
        {
          "output_type": "stream",
          "name": "stdout",
          "text": [
            "Результати обчислень\n",
            "\n",
            "          c      F(c)\n",
            "0 -1.400000 -0.261291\n",
            "1 -1.623636  0.106144\n",
            "2 -1.573564  0.005266\n",
            "3 -1.570805  0.000016\n",
            "\n",
            "В точці с =  -1.5708049170979717 , f(c) =  1.6292567852764437e-05\n"
          ]
        }
      ]
    },
    {
      "cell_type": "markdown",
      "source": [
        "5. Метод Ньютона (дотичних)"
      ],
      "metadata": {
        "id": "qjI38bTp0xCo"
      }
    },
    {
      "cell_type": "code",
      "source": [
        "import numpy as np\n",
        "import scipy.optimize as sp\n",
        "\n",
        "def f(x):\n",
        "    y = np.cos(x)*np.sin(x)*(x**2+x+1)\n",
        "    return y\n",
        "\n",
        "def df(x):# Обчислення похідної\n",
        "    y1 = -(x**2+x+1)*(np.sin(x))**2\n",
        "    y2 = (x**2+x+1)*(np.cos(x))**2\n",
        "    y3 = (2*x+1)*np.sin(x)*np.cos(x)\n",
        "    y = y1+y2+y3\n",
        "    return y\n",
        "\n",
        "x0 = -1.4\n",
        "x1 = 1.4\n",
        "\n",
        "x_0 = sp.newton(f, x0, df, tol=1.e-3, maxiter=50)\n",
        "x_1 = sp.newton(f, x1, df, tol=1.e-3, maxiter=50)\n",
        "\n",
        "print('The approximate solution x is:', x_0)\n",
        "print('And the value f(x_0) is:', f(x_0))\n",
        "\n",
        "print('The approximate solution x is:', x_1)\n",
        "print('And the value f(x_0) is:', f(x_1))"
      ],
      "metadata": {
        "colab": {
          "base_uri": "https://localhost:8080/"
        },
        "id": "AonZxq_H0m6-",
        "outputId": "ccc40d7b-746e-4c2c-8813-f43440441142"
      },
      "execution_count": null,
      "outputs": [
        {
          "output_type": "stream",
          "name": "stdout",
          "text": [
            "The approximate solution x is: -1.5707963268782201\n",
            "And the value f(x_0) is: 1.5803176499052036e-10\n",
            "The approximate solution x is: 1.5707963267958693\n",
            "And the value f(x_0) is: -4.9007361645997675e-12\n"
          ]
        }
      ]
    },
    {
      "cell_type": "markdown",
      "source": [
        " # Знаходження коренів рівняння за допомогою бібліотеки SymPy"
      ],
      "metadata": {
        "id": "pvK9N9TH1QD-"
      }
    },
    {
      "cell_type": "code",
      "source": [
        "import sympy as sym\n",
        "\n",
        "x = sym.Symbol('x')\n",
        "\n",
        "y = sym.cos(x)*sym.sin(x)*(x**2+x+1)\n",
        "\n",
        "s = sym.solve(y)\n",
        "\n",
        "print(s)"
      ],
      "metadata": {
        "colab": {
          "base_uri": "https://localhost:8080/"
        },
        "id": "PuAp1WCr08qt",
        "outputId": "6b88860f-90e8-4cc6-bc8f-ea145f10e349"
      },
      "execution_count": null,
      "outputs": [
        {
          "output_type": "stream",
          "name": "stdout",
          "text": [
            "[0, pi/2, pi, 3*pi/2, -1/2 - sqrt(3)*I/2, -1/2 + sqrt(3)*I/2]\n"
          ]
        }
      ]
    },
    {
      "cell_type": "code",
      "source": [
        "import sympy as sym\n",
        "\n",
        "x, a, b, c = sym.symbols('x, a, b, c')\n",
        "\n",
        "y = a * x**2 + b * x + c\n",
        "\n",
        "s = sym.solve(y, x)\n",
        "\n",
        "print(s)"
      ],
      "metadata": {
        "colab": {
          "base_uri": "https://localhost:8080/"
        },
        "id": "Y0d-uHtp1c7r",
        "outputId": "858907d0-d433-485a-f36f-2f401defbb92"
      },
      "execution_count": null,
      "outputs": [
        {
          "output_type": "stream",
          "name": "stdout",
          "text": [
            "[(-b - sqrt(-4*a*c + b**2))/(2*a), (-b + sqrt(-4*a*c + b**2))/(2*a)]\n"
          ]
        }
      ]
    },
    {
      "cell_type": "markdown",
      "source": [],
      "metadata": {
        "id": "mk1oBvYj1GC2"
      }
    },
    {
      "cell_type": "code",
      "source": [
        "!pip install numdifftools"
      ],
      "metadata": {
        "colab": {
          "base_uri": "https://localhost:8080/"
        },
        "id": "yiLJNuM3Cq0-",
        "outputId": "26ef0550-5eab-4924-d68b-311b444ab5cd"
      },
      "execution_count": null,
      "outputs": [
        {
          "output_type": "stream",
          "name": "stdout",
          "text": [
            "Requirement already satisfied: numdifftools in /usr/local/lib/python3.12/dist-packages (0.9.41)\n",
            "Requirement already satisfied: numpy>=1.9 in /usr/local/lib/python3.12/dist-packages (from numdifftools) (2.0.2)\n",
            "Requirement already satisfied: scipy>=0.8 in /usr/local/lib/python3.12/dist-packages (from numdifftools) (1.16.1)\n"
          ]
        }
      ]
    },
    {
      "cell_type": "code",
      "source": [
        "#Лабораторна робота. Метод половинного ділення, хорд\n",
        "\n",
        "\n",
        "def rec(a, b, eps):  # метод половинного ділення\n",
        "    while (abs(a - b) > eps):\n",
        "        if f(a) * f((a + b) / 2) < 0:\n",
        "            b = (a + b) / 2\n",
        "        else:\n",
        "            a = (a + b) / 2\n",
        "        x = (a + b) / 2\n",
        "\n",
        "    print('x= ', round(x, 5), '  -   Half division method')\n"
      ],
      "metadata": {
        "id": "BgjK94O9Cfxe"
      },
      "execution_count": null,
      "outputs": []
    },
    {
      "cell_type": "code",
      "source": [
        "def hord(a, b, eps):  # метод хорд\n",
        "    derivative_f = nd.Derivative(f, n=2)\n",
        "    if f(a) * derivative_f(a) > 0:\n",
        "        x0 = a\n",
        "        xi = b\n",
        "    else:\n",
        "        x0 = b\n",
        "        xi = a\n",
        "    xi_1 = xi - (xi - x0) * f(xi) / (f(xi) - f(x0))\n",
        "    while (abs(xi_1 - xi) > eps):\n",
        "        xi = xi_1\n",
        "        xi_1 = xi - (xi - x0) * f(xi) / (f(xi) - f(x0))\n",
        "    print('x= ', round(xi_1, 5), '  -   Chord method')"
      ],
      "metadata": {
        "id": "Sz_KWVf7D2tL"
      },
      "execution_count": null,
      "outputs": []
    },
    {
      "cell_type": "code",
      "source": [
        "import sympy as sym\n",
        "\n",
        "x, a, b, c = sym.symbols('x, a, b, c')\n",
        "f = x**3+3*x**2-9*x-10\n",
        "s = sym.solve(f, x)\n",
        "print(s)"
      ],
      "metadata": {
        "colab": {
          "base_uri": "https://localhost:8080/"
        },
        "id": "cYJ-q7uyvA2L",
        "outputId": "b422194e-722f-4196-d1a3-06aecb3ab252"
      },
      "execution_count": null,
      "outputs": [
        {
          "output_type": "stream",
          "name": "stdout",
          "text": [
            "[-1 - 12/((-1/2 - sqrt(3)*I/2)*(27/2 + 27*sqrt(255)*I/2)**(1/3)) - (-1/2 - sqrt(3)*I/2)*(27/2 + 27*sqrt(255)*I/2)**(1/3)/3, -1 - (-1/2 + sqrt(3)*I/2)*(27/2 + 27*sqrt(255)*I/2)**(1/3)/3 - 12/((-1/2 + sqrt(3)*I/2)*(27/2 + 27*sqrt(255)*I/2)**(1/3)), -1 - (27/2 + 27*sqrt(255)*I/2)**(1/3)/3 - 12/(27/2 + 27*sqrt(255)*I/2)**(1/3)]\n"
          ]
        }
      ]
    },
    {
      "cell_type": "code",
      "source": [
        "#Лабораторна робота 3. Метод Ньютона (дотичних). Комбінований метод\n",
        "\n",
        "def nuton(a, b, eps, f):\n",
        "    df2 = nd.Derivative(f, n=2)(b)  # Отримуємо значення похідної другого порядку в точці b\n",
        "    if f(b) * df2 > 0:\n",
        "        xi = b\n",
        "    else:\n",
        "        xi = a\n",
        "    df = nd.Derivative(f, n=1)(xi)  # Отримуємо значення похідної першого порядку в точці xi\n",
        "    xi_1 = xi - f(xi) / df\n",
        "    while abs(xi_1 - xi) > eps:  # перевіряємо точність\n",
        "        xi = xi_1\n",
        "        xi_1 = xi - f(xi) / df\n",
        "    print('Метод Ньютона, x = ', xi_1.round(4))\n"
      ],
      "metadata": {
        "id": "uz6OF8g2C-vY"
      },
      "execution_count": null,
      "outputs": []
    },
    {
      "cell_type": "code",
      "source": [
        "def komb(a, b, eps, f):\n",
        "    df2 = nd.Derivative(f, n=2)(a)\n",
        "    if f(a) * df2 > 0:\n",
        "        a0,  b0 = a,b\n",
        "    else:\n",
        "         a0,  b0 = a,b\n",
        "    ai = a0\n",
        "    bi = b0\n",
        "    while np.abs(ai - bi) > eps:\n",
        "        ai_1 = ai - f(ai) * (bi - ai) / (f(bi) - f(ai))\n",
        "        bi_1 = bi - f(bi) / nd.Derivative(f, n=1)(bi)\n",
        "        ai = ai_1\n",
        "        bi = bi_1\n",
        "    x = (ai_1 + bi_1) / 2\n",
        "    print('Комбінований метод, x = ', x.round(4))\n"
      ],
      "metadata": {
        "id": "M2T4FA4ifyy_"
      },
      "execution_count": null,
      "outputs": []
    },
    {
      "cell_type": "code",
      "source": [
        "if __name__ == \"__main__\":\n",
        "    a1, b1 = -2.9, -2.8\n",
        "    a2, b2 = 1.5, 1.6\n",
        "    eps = 0.0001\n",
        "    print(\"Розв'язання на відрізку [-2.9, -2.8]\")\n",
        "    nuton(a1, b1, eps, f)\n",
        "    komb(a1, b1, eps, f)\n",
        "    print(\"\\n Розв'язання на відрізку [1.5, 1.6]\")\n",
        "    nuton(a2, b2, eps, f)\n",
        "    komb(a2, b2, eps, f)"
      ],
      "metadata": {
        "colab": {
          "base_uri": "https://localhost:8080/",
          "height": 228
        },
        "id": "zrxTpvysf0zN",
        "outputId": "0584c320-42da-4a31-8a68-06ba9b2349ce"
      },
      "execution_count": 4,
      "outputs": [
        {
          "output_type": "stream",
          "name": "stdout",
          "text": [
            "Розв'язання на відрізку [-2.9, -2.8]\n"
          ]
        },
        {
          "output_type": "error",
          "ename": "NameError",
          "evalue": "name 'nuton' is not defined",
          "traceback": [
            "\u001b[0;31m---------------------------------------------------------------------------\u001b[0m",
            "\u001b[0;31mNameError\u001b[0m                                 Traceback (most recent call last)",
            "\u001b[0;32m/tmp/ipython-input-844896231.py\u001b[0m in \u001b[0;36m<cell line: 0>\u001b[0;34m()\u001b[0m\n\u001b[1;32m      4\u001b[0m     \u001b[0meps\u001b[0m \u001b[0;34m=\u001b[0m \u001b[0;36m0.0001\u001b[0m\u001b[0;34m\u001b[0m\u001b[0;34m\u001b[0m\u001b[0m\n\u001b[1;32m      5\u001b[0m     \u001b[0mprint\u001b[0m\u001b[0;34m(\u001b[0m\u001b[0;34m\"Розв'язання на відрізку [-2.9, -2.8]\"\u001b[0m\u001b[0;34m)\u001b[0m\u001b[0;34m\u001b[0m\u001b[0;34m\u001b[0m\u001b[0m\n\u001b[0;32m----> 6\u001b[0;31m     \u001b[0mnuton\u001b[0m\u001b[0;34m(\u001b[0m\u001b[0ma1\u001b[0m\u001b[0;34m,\u001b[0m \u001b[0mb1\u001b[0m\u001b[0;34m,\u001b[0m \u001b[0meps\u001b[0m\u001b[0;34m,\u001b[0m \u001b[0mf\u001b[0m\u001b[0;34m)\u001b[0m\u001b[0;34m\u001b[0m\u001b[0;34m\u001b[0m\u001b[0m\n\u001b[0m\u001b[1;32m      7\u001b[0m     \u001b[0mkomb\u001b[0m\u001b[0;34m(\u001b[0m\u001b[0ma1\u001b[0m\u001b[0;34m,\u001b[0m \u001b[0mb1\u001b[0m\u001b[0;34m,\u001b[0m \u001b[0meps\u001b[0m\u001b[0;34m,\u001b[0m \u001b[0mf\u001b[0m\u001b[0;34m)\u001b[0m\u001b[0;34m\u001b[0m\u001b[0;34m\u001b[0m\u001b[0m\n\u001b[1;32m      8\u001b[0m     \u001b[0mprint\u001b[0m\u001b[0;34m(\u001b[0m\u001b[0;34m\"\\n Розв'язання на відрізку [1.5, 1.6]\"\u001b[0m\u001b[0;34m)\u001b[0m\u001b[0;34m\u001b[0m\u001b[0;34m\u001b[0m\u001b[0m\n",
            "\u001b[0;31mNameError\u001b[0m: name 'nuton' is not defined"
          ]
        }
      ]
    },
    {
      "cell_type": "markdown",
      "source": [
        "Завдання 3. Лабораторна робота 3\n",
        "\n",
        "Тема: Відокремлення дійсних коренів рівнянь та їх уточнення методом простої ітерації."
      ],
      "metadata": {
        "id": "370aMnuwjPeK"
      }
    },
    {
      "cell_type": "code",
      "source": [
        "!pip install numdifftools"
      ],
      "metadata": {
        "colab": {
          "base_uri": "https://localhost:8080/"
        },
        "id": "Rc37HrNui3h5",
        "outputId": "ba751fe9-48e1-4161-e9b7-72cca0681cf7"
      },
      "execution_count": 5,
      "outputs": [
        {
          "output_type": "stream",
          "name": "stdout",
          "text": [
            "Collecting numdifftools\n",
            "  Downloading numdifftools-0.9.41-py2.py3-none-any.whl.metadata (39 kB)\n",
            "Requirement already satisfied: numpy>=1.9 in /usr/local/lib/python3.12/dist-packages (from numdifftools) (2.0.2)\n",
            "Requirement already satisfied: scipy>=0.8 in /usr/local/lib/python3.12/dist-packages (from numdifftools) (1.16.1)\n",
            "Downloading numdifftools-0.9.41-py2.py3-none-any.whl (100 kB)\n",
            "\u001b[2K   \u001b[90m━━━━━━━━━━━━━━━━━━━━━━━━━━━━━━━━━━━━━━━━\u001b[0m \u001b[32m100.2/100.2 kB\u001b[0m \u001b[31m3.9 MB/s\u001b[0m eta \u001b[36m0:00:00\u001b[0m\n",
            "\u001b[?25hInstalling collected packages: numdifftools\n",
            "Successfully installed numdifftools-0.9.41\n"
          ]
        }
      ]
    },
    {
      "cell_type": "code",
      "source": [
        "import numdifftools as nd"
      ],
      "metadata": {
        "id": "mCRRGRFlizK1"
      },
      "execution_count": 24,
      "outputs": []
    },
    {
      "cell_type": "markdown",
      "source": [
        "Визначаємо чи корінь належить відрізку [1,1.5]"
      ],
      "metadata": {
        "id": "KIZcOAasqZcp"
      }
    },
    {
      "cell_type": "markdown",
      "source": [
        "![image.png](data:image/png;base64,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)"
      ],
      "metadata": {
        "id": "tCCXL78mq0JB"
      }
    },
    {
      "cell_type": "code",
      "source": [
        "def f(x: float):\n",
        "    return x**3-3*x**2+9*x-10\n",
        "\n",
        "def fprime(x: float):\n",
        "    return nd.Derivative(f, n=1)\n",
        "\n",
        "def phi(x: float):\n",
        "    # c = 0.334 (забезпечує |phi'(x)|<1 на [1,1.4])\n",
        "    return x + 0.334 * f(x)\n",
        "\n",
        "def iterate_fixed_point(x0: float, iters: int = 5):\n",
        "    xs = [x0]\n",
        "    x = x0\n",
        "    for _ in range(iters):\n",
        "        x = phi(x)\n",
        "        xs.append(x)\n",
        "    return xs\n",
        "\n",
        "def error_bound(x_last: float) -> float:\n",
        "    # μ = min_{x∈[1,1.4]} |f'(x)| = 1.4\n",
        "    mu = 0.5\n",
        "    return abs(f(x_last)) / mu\n",
        "\n"
      ],
      "metadata": {
        "id": "gt8HxS1AiM0Y"
      },
      "execution_count": 37,
      "outputs": []
    },
    {
      "cell_type": "code",
      "source": [
        "def main():\n",
        "    x0 = 1\n",
        "    iters = 5\n",
        "    xs = iterate_fixed_point(x0, iters)\n",
        "    print(\"Fixed-point iteration for f(x) = x**3-3*x**2+9*x-10 with phi(x) = (x**3-3*x**2+9*x-10)/9\")\n",
        "    print(f\"Interval: [1, 5], start x0 = {x0}\")\n",
        "    for i, xi in enumerate(xs):\n",
        "        if i == 0:\n",
        "            print(f\"x_{i} = {xi:.10f}\")\n",
        "        else:\n",
        "            print(f\"x_{i} = phi(x_{i-1}) = {xi:.10f}\")\n",
        "    bound = error_bound(xs[-1])\n",
        "    print(\"\\nError bound after 5 iterations:  |ξ - x5| ≤ |f(x5)| / μ\")\n",
        "    print(f\"f(x5) = {f(xs[-1]):.10f},  μ = 2  ⇒  |ξ - x5| ≤ {bound:.10f}\")\n",
        "    return xs[-1], bound\n",
        "\n",
        "if __name__ == \"__main__\":\n",
        "    root_approx, bound = main()"
      ],
      "metadata": {
        "colab": {
          "base_uri": "https://localhost:8080/"
        },
        "id": "NcUIwAOAimLR",
        "outputId": "f6083ade-d692-4ceb-c845-fa9d8bbbbafa"
      },
      "execution_count": 42,
      "outputs": [
        {
          "output_type": "stream",
          "name": "stdout",
          "text": [
            "Fixed-point iteration for f(x) = x**3-3*x**2+9*x-10 with phi(x) = (x**3-3*x**2+9*x-10)/9\n",
            "Interval: [1, 5], start x0 = 1\n",
            "x_0 = 1.0000000000\n",
            "x_1 = phi(x_0) = 2.0020000000\n",
            "x_2 = phi(x_1) = 0.6599839893\n",
            "x_3 = phi(x_2) = 2.3565054653\n",
            "x_4 = phi(x_3) = -0.1936339999\n",
            "x_5 = phi(x_4) = 3.7684238039\n",
            "\n",
            "Error bound after 5 iterations:  |ξ - x5| ≤ |f(x5)| / μ\n",
            "f(x5) = 34.8282144786,  μ = 2  ⇒  |ξ - x5| ≤ 69.6564289571\n"
          ]
        }
      ]
    },
    {
      "cell_type": "markdown",
      "source": [
        "Спрощений варіант коду\n"
      ],
      "metadata": {
        "id": "_gkwLHTNkDwS"
      }
    },
    {
      "cell_type": "code",
      "source": [
        "# Рівняння: f(x) = x**3-3*x**2+9*x-10 = 0\n",
        "# Ітераційна функція: φ(x) = x - 0.1 * f(x)  (c = -0.1)\n",
        "# Початкове наближення: x0 = -1\n",
        "# Кількість ітерацій: 5\n",
        "# Оцінка похибки: |ξ - x5| ≤ |f(x5)| / μ, де μ = min_{[-3,-1]} |f'(x)| = 2\n",
        "\n",
        "def f(x):\n",
        "    return x**3-3*x**2+9*x-10\n",
        "\n",
        "def phi(x):\n",
        "    return x - 0.334 * f(x)\n",
        "\n",
        "def fixed_point(x0=1, iters=5):\n",
        "    xs = [x0]\n",
        "    for _ in range(iters):\n",
        "        xs.append(phi(xs[-1]))\n",
        "    return xs\n",
        "\n",
        "# Запуск і вивід результатів\n",
        "xs = fixed_point(1, 5)\n",
        "\n",
        "for i, xi in enumerate(xs):\n",
        "    print(f\"x_{i} = {xi:.10f}\")\n",
        "\n",
        "# Похибка методу простої ітерації після 5-ї ітерації\n",
        "mu = 0.5                      # μ = min_{[-3,-1]} |3x^2 - 1| = 2\n",
        "err_bound = abs(f(xs[-1]))/mu\n",
        "print(f\"\\nОцінка похибки: |ξ - x5| ≤ {err_bound:.10f}\")"
      ],
      "metadata": {
        "colab": {
          "base_uri": "https://localhost:8080/"
        },
        "id": "womZO91vj9vN",
        "outputId": "09f03d21-68b9-4b59-8303-eb3d1d30f2c6"
      },
      "execution_count": 41,
      "outputs": [
        {
          "output_type": "stream",
          "name": "stdout",
          "text": [
            "x_0 = 1.0000000000\n",
            "x_1 = 2.0020000000\n",
            "x_2 = 0.6599839893\n",
            "x_3 = 2.3565054653\n",
            "x_4 = -0.1936339999\n",
            "x_5 = 3.7684238039\n",
            "\n",
            "Оцінка похибки: |ξ - x5| ≤ 69.6564289571\n"
          ]
        }
      ]
    }
  ]
}