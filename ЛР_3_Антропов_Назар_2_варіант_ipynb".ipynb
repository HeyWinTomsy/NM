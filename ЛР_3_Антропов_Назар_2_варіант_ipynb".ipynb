{
  "nbformat": 4,
  "nbformat_minor": 0,
  "metadata": {
    "colab": {
      "provenance": [],
      "include_colab_link": true
    },
    "kernelspec": {
      "name": "python3",
      "display_name": "Python 3"
    },
    "language_info": {
      "name": "python"
    }
  },
  "cells": [
    {
      "cell_type": "markdown",
      "metadata": {
        "id": "view-in-github",
        "colab_type": "text"
      },
      "source": [
        "<a href=\"https://colab.research.google.com/github/HeyWinTomsy/NM/blob/main/%D0%9B%D0%A0_3_%D0%90%D0%BD%D1%82%D1%80%D0%BE%D0%BF%D0%BE%D0%B2_%D0%9D%D0%B0%D0%B7%D0%B0%D1%80_2_%D0%B2%D0%B0%D1%80%D1%96%D0%B0%D0%BD%D1%82_ipynb%22.ipynb\" target=\"_parent\"><img src=\"https://colab.research.google.com/assets/colab-badge.svg\" alt=\"Open In Colab\"/></a>"
      ]
    },
    {
      "cell_type": "markdown",
      "source": [
        "Філімонова Тетяна. Варіант 3"
      ],
      "metadata": {
        "id": "HlvFbYQzhdIu"
      }
    },
    {
      "cell_type": "markdown",
      "source": [
        "1. Метод ділення навпіл."
      ],
      "metadata": {
        "id": "VgrW9zRY0dVt"
      }
    },
    {
      "cell_type": "code",
      "execution_count": 131,
      "metadata": {
        "colab": {
          "base_uri": "https://localhost:8080/"
        },
        "id": "iOTNXySVyeHy",
        "outputId": "f9afb1ee-7bd4-44fd-d548-3023ee24bc94"
      },
      "outputs": [
        {
          "output_type": "stream",
          "name": "stdout",
          "text": [
            "Результати обчислень\n",
            "\n",
            "          a      F(a)         c      F(c)       b      F(b)\n",
            "0 -3.000000  0.977954 -2.000000  1.135204 -1.0000 -0.454649\n",
            "1 -2.000000  1.135204 -1.500000 -0.123480 -1.0000 -0.454649\n",
            "2 -2.000000  1.135204 -1.750000  0.405593 -1.5000 -0.123480\n",
            "3 -1.750000  0.405593 -1.625000  0.109040 -1.5000 -0.123480\n",
            "4 -1.625000  0.109040 -1.562500 -0.015587 -1.5000 -0.123480\n",
            "5 -1.625000  0.109040 -1.593750  0.044659 -1.5625 -0.015587\n",
            "6 -1.593750  0.044659 -1.578125  0.014015 -1.5625 -0.015587\n",
            "7 -1.578125  0.014015 -1.570312 -0.000917 -1.5625 -0.015587\n",
            "\n",
            "В точці с =  -1.5703125 , f(c) =  -0.0009171268569415665\n"
          ]
        }
      ],
      "source": [
        "import numpy as np\n",
        "import pandas as pd\n",
        "\n",
        "# Визначаємо функцію\n",
        "def f (x):\n",
        "    y = np.cos(x)*np.sin(x)*(x**2+x+1)\n",
        "    return y\n",
        "# Визначаємо границі відрізку\n",
        "a = -3\n",
        "b = -1\n",
        "# Визначаємо точність розв'язку\n",
        "h = 0.001\n",
        "# Поділяємо відрізок навпіл\n",
        "c = (a+b)/2\n",
        "# Зберігаємо результати обчислень\n",
        "data_A = [a]\n",
        "data_B = [b]\n",
        "data_C = [c]\n",
        "data_F_A = [f(a)]\n",
        "data_F_B = [f(b)]\n",
        "data_F_C = [f(c)]\n",
        "# Перевіряємо досягнення точності\n",
        "while abs(f(c)) > h:\n",
        "    # Звужуємо відрізок\n",
        "    if np.sign(f(c)) == np.sign(f(a)):\n",
        "        a = c\n",
        "    else:\n",
        "        b = c\n",
        "    # Поділяємо відрізок навпіл\n",
        "    c = (a+b)/2\n",
        "    # Зберігаємо результати обчислень\n",
        "    data_A.append(a)\n",
        "    data_B.append(b)\n",
        "    data_C.append(c)\n",
        "    data_F_A.append(f(a))\n",
        "    data_F_B.append(f(b))\n",
        "    data_F_C.append(f(c))\n",
        "# Відображаємо результати обчислень\n",
        "print('Результати обчислень')\n",
        "print()\n",
        "data = pd.DataFrame({'a': data_A,\n",
        "                     'F(a)': data_F_A,\n",
        "                     'c': data_C,\n",
        "                     'F(c)': data_F_C,\n",
        "                     'b': data_B,\n",
        "                     'F(b)': data_F_B})\n",
        "print(data)\n",
        "# Відображаємо наближений корінь рівняння\n",
        "print()\n",
        "print('В точці с = ', c, ', f(c) = ', f(c))"
      ]
    },
    {
      "cell_type": "markdown",
      "source": [
        "2. Метод ділення навпіл"
      ],
      "metadata": {
        "id": "5hYa7ucn0PEN"
      }
    },
    {
      "cell_type": "code",
      "source": [
        "import numpy as np\n",
        "import scipy.optimize as sp\n",
        "\n",
        "def f(x):\n",
        "    y = np.cos(x)*np.sin(x)*(x**2+x+1)\n",
        "    return y\n",
        "\n",
        "a, b = -3, -1\n",
        "tol = 1.e-3\n",
        "\n",
        "x = sp.bisect(f, a, b,(),tol) #функція для метода\n",
        "\n",
        "print('The approximate solution x is:', x)\n",
        "print('And the value f(x) is:', f(x))"
      ],
      "metadata": {
        "colab": {
          "base_uri": "https://localhost:8080/"
        },
        "id": "ML3KEw5q0H1e",
        "outputId": "3309c4c7-aae1-4ada-a89d-d23ddd02e6f3"
      },
      "execution_count": 132,
      "outputs": [
        {
          "output_type": "stream",
          "name": "stdout",
          "text": [
            "The approximate solution x is: -1.5712890625\n",
            "And the value f(x) is: 0.0009350448126615916\n"
          ]
        }
      ]
    },
    {
      "cell_type": "markdown",
      "source": [
        "3. Метод хорд"
      ],
      "metadata": {
        "id": "sYf0IvR41ufd"
      }
    },
    {
      "cell_type": "code",
      "source": [
        "import numpy as np\n",
        "import pandas as pd\n",
        "# Визначаємо функцію\n",
        "def f(x):\n",
        "    y = np.cos(x)*np.sin(x)*(x**2+x+1)\n",
        "    return y\n",
        "# Визначаємо межі відрізку\n",
        "a = -3\n",
        "b = -1\n",
        "# Визначаємо точність розв'язку\n",
        "h = 0.001\n",
        "# Точка, де хорда перетинає вісь 0x\n",
        "c = (f(a)*b-a*f(b))/(f(a)-f(b))\n",
        "\n",
        "# Зберігаємо результати обчислень\n",
        "data_A = [a]\n",
        "data_B = [b]\n",
        "data_C = [c]\n",
        "data_F_A = [f(a)]\n",
        "data_F_B = [f(b)]\n",
        "data_F_C = [f(c)]\n",
        "# Перевіряємо досягнення точності\n",
        "while abs(f(c)) > h:\n",
        "    # Звужуємо відрізок\n",
        "    if np.sign(f(c)) == np.sign(f(a)):\n",
        "        a = c\n",
        "    else:\n",
        "        b = c\n",
        "    # Точка, де хорда перетинає вісь 0x\n",
        "    c = (f(a)*b-a*f(b))/(f(a)-f(b))\n",
        "    # Зберігаємо результати обчислень\n",
        "    data_A.append(a)\n",
        "    data_B.append(b)\n",
        "    data_C.append(c)\n",
        "    data_F_A.append(f(a))\n",
        "    data_F_B.append(f(b))\n",
        "    data_F_C.append(f(c))\n",
        "# Відображаємо результати обчислень\n",
        "print('Результати обчислень')\n",
        "print()\n",
        "data = pd.DataFrame({'a': data_A, 'F(a)': data_F_A,\n",
        "                     'c': data_C, 'F(c)': data_F_C,\n",
        "                     'b': data_B, 'F(b)': data_F_B})\n",
        "print(data)\n",
        "# Відображаємо наближений корінь рівняння\n",
        "print()\n",
        "print('В точці с = ', c, ', f(c) = ', f(c))"
      ],
      "metadata": {
        "colab": {
          "base_uri": "https://localhost:8080/"
        },
        "id": "3p6i5xHK1y3l",
        "outputId": "cbb7e2ae-dca3-4a06-8677-69b85de54098"
      },
      "execution_count": 133,
      "outputs": [
        {
          "output_type": "stream",
          "name": "stdout",
          "text": [
            "Результати обчислень\n",
            "\n",
            "          a      F(a)         c      F(c)         b      F(b)\n",
            "0 -3.000000  0.977954 -1.634717  0.129889 -1.000000 -0.454649\n",
            "1 -1.634717  0.129889 -1.493678 -0.133455 -1.000000 -0.454649\n",
            "2 -1.634717  0.129889 -1.565152 -0.010636 -1.493678 -0.133455\n",
            "3 -1.634717  0.129889 -1.570418 -0.000718 -1.565152 -0.010636\n",
            "\n",
            "В точці с =  -1.5704175737258015 , f(c) =  -0.0007180376446871882\n"
          ]
        }
      ]
    },
    {
      "cell_type": "markdown",
      "source": [
        "4. Метод Ньютона (дотичних)"
      ],
      "metadata": {
        "id": "40blPBSK2Cdm"
      }
    },
    {
      "cell_type": "code",
      "source": [
        "import numpy as np\n",
        "import pandas as pd\n",
        "# Визначаємо функцію\n",
        "def f(x):\n",
        "    y = np.cos(x)*np.sin(x)*(x**2+x+1)\n",
        "    return y\n",
        "# Визначаємо першу похідну\n",
        "def df(x):\n",
        "    y1 = -(x**2+x+1)*(np.sin(x))**2\n",
        "    y2 = (x**2+x+1)*(np.cos(x))**2\n",
        "    y3 = (2*x+1)*np.sin(x)*np.cos(x)\n",
        "    y = y1+y2+y3\n",
        "    return y\n",
        "# Визначаємо початкову точку\n",
        "c = -1.4\n",
        "# Визначаємо точність розв'язку\n",
        "h = 0.001\n",
        "# Зберігаємо результати обчислень\n",
        "data_C = [c]\n",
        "data_F_C = [f(c)]\n",
        "# Перевіряємо досягнення точності\n",
        "while abs(f(c)) > h:\n",
        "    # Точка, де дотична перетинає вісь 0x\n",
        "    c -= f(c)/df(c)\n",
        "    # Зберігаємо результати обчислень\n",
        "    data_C.append(c)\n",
        "    data_F_C.append(f(c))\n",
        "# Відображаємо результати обчислень\n",
        "print('Результати обчислень')\n",
        "print()\n",
        "data = pd.DataFrame({'c': data_C, 'F(c)': data_F_C})\n",
        "print(data)\n",
        "# Відображаємо наближений корінь рівняння\n",
        "print()\n",
        "print('В точці с = ', c, ', f(c) = ', f(c))"
      ],
      "metadata": {
        "colab": {
          "base_uri": "https://localhost:8080/"
        },
        "id": "WeGQjbjW2HDz",
        "outputId": "493b49bb-ba58-419f-dc00-9c7f138dfae4"
      },
      "execution_count": 134,
      "outputs": [
        {
          "output_type": "stream",
          "name": "stdout",
          "text": [
            "Результати обчислень\n",
            "\n",
            "          c      F(c)\n",
            "0 -1.400000 -0.261291\n",
            "1 -1.623636  0.106144\n",
            "2 -1.573564  0.005266\n",
            "3 -1.570805  0.000016\n",
            "\n",
            "В точці с =  -1.5708049170979717 , f(c) =  1.6292567852764437e-05\n"
          ]
        }
      ]
    },
    {
      "cell_type": "markdown",
      "source": [
        "5. Метод Ньютона (дотичних)"
      ],
      "metadata": {
        "id": "qjI38bTp0xCo"
      }
    },
    {
      "cell_type": "code",
      "source": [
        "import numpy as np\n",
        "import scipy.optimize as sp\n",
        "\n",
        "def f(x):\n",
        "    y = np.cos(x)*np.sin(x)*(x**2+x+1)\n",
        "    return y\n",
        "\n",
        "def df(x):# Обчислення похідної\n",
        "    y1 = -(x**2+x+1)*(np.sin(x))**2\n",
        "    y2 = (x**2+x+1)*(np.cos(x))**2\n",
        "    y3 = (2*x+1)*np.sin(x)*np.cos(x)\n",
        "    y = y1+y2+y3\n",
        "    return y\n",
        "\n",
        "x0 = -1.4\n",
        "x1 = 1.4\n",
        "\n",
        "x_0 = sp.newton(f, x0, df, tol=1.e-3, maxiter=50)\n",
        "x_1 = sp.newton(f, x1, df, tol=1.e-3, maxiter=50)\n",
        "\n",
        "print('The approximate solution x is:', x_0)\n",
        "print('And the value f(x_0) is:', f(x_0))\n",
        "\n",
        "print('The approximate solution x is:', x_1)\n",
        "print('And the value f(x_0) is:', f(x_1))"
      ],
      "metadata": {
        "colab": {
          "base_uri": "https://localhost:8080/"
        },
        "id": "AonZxq_H0m6-",
        "outputId": "a434e5f6-55ae-432d-a7c6-9ca900a1cfaf"
      },
      "execution_count": 135,
      "outputs": [
        {
          "output_type": "stream",
          "name": "stdout",
          "text": [
            "The approximate solution x is: -1.5707963268782201\n",
            "And the value f(x_0) is: 1.5803176499052036e-10\n",
            "The approximate solution x is: 1.5707963267958693\n",
            "And the value f(x_0) is: -4.9007361645997675e-12\n"
          ]
        }
      ]
    },
    {
      "cell_type": "markdown",
      "source": [
        " # Знаходження коренів рівняння за допомогою бібліотеки SymPy"
      ],
      "metadata": {
        "id": "pvK9N9TH1QD-"
      }
    },
    {
      "cell_type": "code",
      "source": [
        "import sympy as sym\n",
        "\n",
        "x = sym.Symbol('x')\n",
        "\n",
        "y = sym.cos(x)*sym.sin(x)*(x**2+x+1)\n",
        "\n",
        "s = sym.solve(y)\n",
        "\n",
        "print(s)"
      ],
      "metadata": {
        "colab": {
          "base_uri": "https://localhost:8080/"
        },
        "id": "PuAp1WCr08qt",
        "outputId": "865888d3-b530-49b0-85c4-14a1803438bc"
      },
      "execution_count": 136,
      "outputs": [
        {
          "output_type": "stream",
          "name": "stdout",
          "text": [
            "[0, pi/2, pi, 3*pi/2, -1/2 - sqrt(3)*I/2, -1/2 + sqrt(3)*I/2]\n"
          ]
        }
      ]
    },
    {
      "cell_type": "code",
      "source": [
        "import sympy as sym\n",
        "\n",
        "x, a, b, c = sym.symbols('x, a, b, c')\n",
        "\n",
        "y = a * x**2 + b * x + c\n",
        "\n",
        "s = sym.solve(y, x)\n",
        "\n",
        "print(s)"
      ],
      "metadata": {
        "colab": {
          "base_uri": "https://localhost:8080/"
        },
        "id": "Y0d-uHtp1c7r",
        "outputId": "5ccf2929-0d71-432a-ee12-38cec6c999e1"
      },
      "execution_count": 137,
      "outputs": [
        {
          "output_type": "stream",
          "name": "stdout",
          "text": [
            "[(-b - sqrt(-4*a*c + b**2))/(2*a), (-b + sqrt(-4*a*c + b**2))/(2*a)]\n"
          ]
        }
      ]
    },
    {
      "cell_type": "markdown",
      "source": [],
      "metadata": {
        "id": "mk1oBvYj1GC2"
      }
    },
    {
      "cell_type": "code",
      "source": [
        "!pip install numdifftools"
      ],
      "metadata": {
        "colab": {
          "base_uri": "https://localhost:8080/"
        },
        "id": "yiLJNuM3Cq0-",
        "outputId": "50f3a23e-316a-47d6-80b9-76118aa57205"
      },
      "execution_count": 138,
      "outputs": [
        {
          "output_type": "stream",
          "name": "stdout",
          "text": [
            "Requirement already satisfied: numdifftools in /usr/local/lib/python3.12/dist-packages (0.9.41)\n",
            "Requirement already satisfied: numpy>=1.9 in /usr/local/lib/python3.12/dist-packages (from numdifftools) (2.0.2)\n",
            "Requirement already satisfied: scipy>=0.8 in /usr/local/lib/python3.12/dist-packages (from numdifftools) (1.16.1)\n"
          ]
        }
      ]
    },
    {
      "cell_type": "code",
      "source": [
        "#Лабораторна робота 2\n",
        "#Відокремлення коренів\n",
        "import numpy as np\n",
        "import numdifftools as nd\n",
        "\n",
        "def f(x):\n",
        "    return 3*x**4+4*x**3-12*x**2-5\n",
        "\n",
        "\n",
        "def find_segments(): #відокремлюємо корені\n",
        "    search_range = np.arange(-5, 5, 0.1)\n",
        "\n",
        "    a = None\n",
        "    previous_x = None\n",
        "    current_x  = None\n",
        "    segments = []\n",
        "\n",
        "    for x in search_range:\n",
        "        x = round(x, 4)\n",
        "        current_x = f(x)\n",
        "        if previous_x != None and previous_x * current_x < 0:\n",
        "            segments.append((a, x))\n",
        "        a = x\n",
        "        previous_x = current_x\n",
        "    return segments\n",
        "\n",
        "segments = find_segments()\n",
        "for a, b in segments:\n",
        "    print(f'Found segment:  [{a}, {b}]')\n"
      ],
      "metadata": {
        "colab": {
          "base_uri": "https://localhost:8080/"
        },
        "id": "L-9dn4npCso-",
        "outputId": "94e95bb1-c782-4fb0-e05c-622481164556"
      },
      "execution_count": 139,
      "outputs": [
        {
          "output_type": "stream",
          "name": "stdout",
          "text": [
            "Found segment:  [-2.9, -2.8]\n",
            "Found segment:  [1.5, 1.6]\n"
          ]
        }
      ]
    },
    {
      "cell_type": "code",
      "source": [
        "import numpy as np\n",
        "import matplotlib.pyplot as plt\n",
        "\n",
        "# Визначення функції\n",
        "def f(x):\n",
        "    return 3*x**4+4*x**3-12*x**2-5\n",
        "\n",
        "# Генерація значень x\n",
        "x = np.linspace(-4, 3, 100)\n",
        "\n",
        "# Генерація значень y\n",
        "y = f(x)\n",
        "\n",
        "# Побудова графіка\n",
        "plt.figure(figsize=(8, 6))\n",
        "plt.plot(x, y, label='3*x**4+4*x**3-12*x**2-5', color='blue')\n",
        "plt.title('Графік функції 3*x**4+4*x**3-12*x**2-5')\n",
        "plt.xlabel('x')\n",
        "plt.ylabel('f(x)')\n",
        "\n",
        "# Додавання осей з стрілками\n",
        "plt.axhline(0, color='black', linewidth=0.5)\n",
        "plt.axvline(0, color='black', linewidth=0.5)\n",
        "\n",
        "plt.text(2.05, -4, 'x', ha='center', va='center')\n",
        "plt.text(-0.3, 190, 'y', ha='center', va='center')\n",
        "\n",
        "plt.grid(True)\n",
        "plt.legend()\n",
        "plt.show()\n"
      ],
      "metadata": {
        "colab": {
          "base_uri": "https://localhost:8080/",
          "height": 564
        },
        "id": "7zUI3d1xZXar",
        "outputId": "59ac689a-2968-4390-9420-d81052528f25"
      },
      "execution_count": 140,
      "outputs": [
        {
          "output_type": "display_data",
          "data": {
            "text/plain": [
              "<Figure size 800x600 with 1 Axes>"
            ],
            "image/png": "[encoded data removed]"
          },
          "metadata": {}
        }
      ]
    },
    {
      "cell_type": "markdown",
      "source": [
        "![image.png](data:image/png;base64,iVBORw0KGgoAAAANSUhEUgAAAa4AAAFRCAIAAACjU94BAAAQAElEQVR4Aey9CXgc1Zku3FXV+95q7btl2bIseZV3bGPA2AQwgQkYMElIBgeSuUkmwblJuHMnzJ8JA5OELCQkDOHeOzFgEhMIYDYDxjabd7zvuyVrban3vavqf1uNhSzJUq9SL189R6VTp87ynfdUvfUt3dXs1KlTGxsbJ0+eLGy8eRFthAAhQAjkJAKshDZCgBAgBHIeAaLCnL8ECABCgBCQSLKcCmmJCQFCgBCIBgGiwmhQojqEACGQ5QgQFWb5AtP0CAFCIBoEiAqjQSld65BchAAhkCQEiAqTBCR1QwgQApmMwGVU6KGNECAECIGcROAyKsxkTifZsw8BmhEhMHoIEBWOHtY0EiFACKQtAkSFabs0JBghQAiMHgJEhaOHNY1ECPRHgPJphQBRYVotBwlDCBACY4MAUeHY4E6jEgKEQFohQFSYVstBwhAC2YJAps2DqDDTVozkJQQIgRQgQFSYAlCpS0KAEMg0BDKDCidOnFhXV5eXl5cO8DIMo1Qqp06dumDBguuuu27u3LlqtRqF6SDbiDJAzqKiopkzZy5cuPDGG2+sqanBXEZsRRUIgaxHIEYqHHU8WJYtLi6eN2/etGnTjEbjqI8/xIAKhaKsrKyxsdFkMhUWFk6ePBl5mUw2RNX0KzIYDHioTJo0CQxYXV09a9asysrK9BOTJCIERhuB1FIhdBCO43DXISGDw5jmBx7U6XTQv8aPHw+VUC6Xx9Q8ysoYBbJhH2V9iAFhfD7f3r17Dxw4wPM8JEw6FUqlUgw0JGI4BTpGil7mvqnp9XpAarPZPvjgg/3799f2bn1nE8lAVMgzOCXS5zBtMVwEB4w4TDU6RQhEiUAKqRDXKG5XsEZVVdW4ceOgQ4EvUBilZKim1WphwUErbGlpaWtrQ0nSE+4ojUZjNpsxVpSyORyOXbt2/f3vf+/s7MQEQYUQD/vEZYMwkAEooVvom6WlpRzHobCvZ5wFP0YgBaqAFIco7KswYqa5ufmdd9557733RFG0Wq2BQACZEVtFUwFig2QhW1+CeMA2mrax1gEscEoUFBRUVFRAz8XQ/VGKtTeqTwgAgRRSYUNDw9e//vUHH3zwpptuuvvuu3/6059+5StfKSkpwajRJCiSsODmz5+P+zZFPAgxwIArVqyAkDAVZbIYjFwwyK233nrzzTdDTjAjOAW9JZhwe9fX1wOl//iP//jNb37zjW98A1TSd5OD9XDnf+9737v//vu/+MUv3nPPPb/61a/uvfdeMGb040LsUCgUDAbRG9yFZ86cOX78ePTNh6kJAH/wgx/8v37bU089hSkM0yS+U1AGr7rqqn/+539evXr18uXLf/jDH95xxx2gxfh6o1aEQASBVFEh7rRly5ZBtfn4449ff/319evXnz59euLEiVdffXVk4BH3IAVULioqWrJkCdz8uNNmz54NxxY0ghHbRlMBFIOb6vrrrwcjQJEBo6EkmoZ9dXbu3Llp0ya73f6FL3wBzfvKE8lAuzx27Bis1/b2dug7/TU+PEXAvNCRP/3009dee+3NN9/ctm3bNddcA3Agf/SDgg1RH9EemMmHDh1K1mMGCKDDDz/88OlLG1hx8+bN0QsWZc05c+Y0NTV5vd6XXnpp48aNWAVcFUAmWRdGlGJQtSxDIFVUKAiC0+mE0gGH1IkTJ3DLHT16FIYMvH4DEMTdDtUMtz3upcgplOAQygsUFjAp7lV05XK5sPf7/biTI9UG70FtYFtoSVCvBp8dUAKyBgmCWaAiofMBZyOH6AfONahmkUNwJfLgdySwCdgKEuKenDFjBnqL1ElkD9Wyo6PjSO/W1dU1oCuMjrnDGMegSAAW4EAMQJqfnz+gMqCA5IARmOMU2qIEfgCADNUSoR6AjB4wokqlShaJ9PT0wHmKx0Mkbdmy5fDhwxg9WQmzwHTwRITpjQcGcDp16tSOHTtwVcBdO2HChGQNRP3kIAKpokIQ2UcffYTLFLcHYMVFjD0uWY/Hg0xfAoNA70OA+LrrrgOL4XaFm2z69OlLly7F5Y57FfoRdJ+TJ0+CVaFXWiwWkGxf8wEZ9DZlyhSY1SCsAacGHILjwCAY9+LFi8ePHx8gFSqDKcAykOTaa6+FDoI7ECWQECoqEiKwKMS9B4cdHGQga2hzaJVgAinDfwfdCkCB9Qb0hlPbt28HGsjgFFgMGaAB2YAbSvoSZgcQQPSwH6FLgukA5ty5c2+44QaoVIsXL8YpsCeMSvgfMClU6GubSAYgQCokTARhJaCKfCIdDmiLqwj8Dvcxri5cDJGzeCDhqsCUp02bFimhPSEQBwKpokKIgoc29EFctSA7aCJgje7ubkRdcaovQUlB+YIFC7785S8vWrQI7AOdDvYm/HfgGig1uKOQoA/CDsWthZutr+3gDNgKYxmNRnDi4LN9JeCO8vJyWN/oFlrMhQsX+k71ZcAOUBghw5e+9KVbbrkFgkGlAokgD2mhFYINQbu4/TAFmKvQDfvapigDBGAagwojTxdoc6A5MCYUSbBn/0HBziA4PF3uu+++xsZGSA7WhnsRViSYHZKjIdSoG2+8EXMB4KCY/s3jy0MSMDLGQlAazg0EysC2V1oI4Ilxh0kAH6w3QBIsCtYXNgSuBFxLkbN4GGAd8fDAhRQpoT0hEAcCKaRCSIN7DLfEd77znUceeQQ3ydatWwc4jxCNheaIKAFuchAf1DTcnIiT/PznP3/++eehCaITJGiFsK8H24w4FUfC7QT/GhjhxRdfPH/+/JA9QK8Blf/hD3946623cIejPggaYvzud7/75S9/+eqrr/7+97/H/rnnnvvv//7vCOMP2U/qCoEnVDzwIIxQaEb9B0Lh22+//Z//+Z/QeUH6eMaUlZW98MIL//Zv//brX//64Ycf/u53v/u/ejcszcsvvwwe6d88vjw6AX/ddtttWDsETJ544gk83uDFG9wbnlh33XXX/x52g4Rw4w5oi8sJHIonGZRNPCD7zuIQhAglt6+EMoRArAiklgohDYyX999//+9//zu0GOh6IBQU9k/QJqDrQTsD4yA2gssdjAPzB7oPyiM1QYK426/k0QPbQjtDgpoGmoMGCq0Eh1B8YEzBdIp0EtnDVAQ1oBzOfShTuIUi5UPucRZ0jKERnYAyAmaBcwpEA1UXYuPmB2MO2TBSCGqAGEMmqGnQXiPV4tiDEdAt7HdwMbCCnAM6QQlUJzgToSvV1dWBOOBcO3fuHBQoSD6g8uBD0A38iRhicGpoaADCUNAGtNq3b98zzzzzox/9CLHdb33rW3AUYjluv/124A/u618ZsiHcgcrDJBA3vAH9W0XyaBvJDN4LgjC4kEoIgSgRSC0V4q6D3oebBH5DRDzBIPBSDb6RUK21tRW3H3gKARZQHlgGlVEemQYYB+lKtwGoEKSAhHsPVIibH7cxDoekQhiMiHLgLCzf73//+z/84Q9hJ6I+jMcHH3wQ93l/mw4CwBCDPDD64FIEI4NTIAnKIRjkiWSQHzJBGAw0ZAIVYrJDthqxEHYlTHXMGgodsAXCQzaBnGfPnoWuBCHB4DDhgeqIMke6wloAqCElB0SDVxCtwLydnZ3Nzc0gXKjwUO3xzIDLEmrpACpEZQR/QM3DJAgMtFGzf8JEMFlcGBAPPuW+UzjEEHiw9ZVQhhCIFYFUUSGUO6hR0ARhvEC/w00CjoNKAkUJlt1gnQLuLVzcUANxucc6B2ht0IyQcOcjkoCxYPbiEAodAhq4//t3CI8b/JUffvghqiGPWyvCbmAK5EEfAwTAFDAR3H4Dyvv3eaU8hIEYQyYomGDYKzW8UjkUZzAgYh3QCkE3eMDg/geeQyqYABlsC46IA1XMF4w2pOQoh6YPSh0gJAbCoqMQQGHRsQR4ioCkkCLlOBVJOIR3ArMYJsFLCxqN1O/bYyJYNeCGRcHUIuUYFwuEB9iQPt9IHdoTAiMikCoqxL0KTxZMM1yjESHgCgTZgXegPkRuJNwksJ6Q4FHCzYy7GmQEzQ43fKRJlHs49UAKSAgpQCuB52737t04/OSTT+BHA//27wcMAh8fHHzwRUYSWuH2RuW//vWvIFOwAEgEUiEeAv0LWhVubFTA3TvYkd+/58F53JwQY8iE4PhgrWdwD/1LcP+DBxG/xh5KNLyrIB3EysEaKOmrCZBRE2gDVZxFTeAJh0BfhWgymPLOnTuHlBzlQBgo9fUDasMqQ4tErAa4RcqxoBgXDwMQIigsUti3h2zQLodJ6Ao6dV/9SAbzRYfQKDFHTBnjohxPAiQ8w7DWOMzeRDNLLQKpokJcqXfccQdsT9yEeIDjYoUfEPcnDB/oC5F7A+U4i1to6dKleNqDkqBuoBris7ijwEepmDruGXAx+LEvQR9EIfYoQQb3G0aH/OBxeBXB1/C4gUDB0biBoYCgJBWCoU/c26APkAiQARGDX5DBIUaE7gNevvXWWxFMgJaNKYCa4chDPAd+TJjbaB5JYBAcohwBKJjPiEqhLYRHV+gT+Ui1JO4hNmBBkATBEEgFgbHcEABiwxTAykaefH0jAmHw6evDbrCvB1MbGmKB8JzDYoFGEaHGExfuDoyI6wru5r4hKEMIxIpAqqgQ1zGoDX6iNWvWwImOaCHuWBAKNC9YrLimISjoZtWqVTiFWxTaHBQl7OG2Q33oPiBE1BmThHvspptu+tnPfgZOgcML9zM4paSk5O67777lllvgKUuRVOBBENkDDzzwzW9+E1QCC/Hb3/726tWrMSIgAjXDvwmvJUoeffRRBGqREHxHjKi/POBH9HDvvfe63W5YuCAOZECLQBV9whHRv3JS8lhNPEXg+ANZQ3IMhOg0HLV79uxBuGwAD0ZGBD9C0R4mtbS0QAGMVB6wh64Kfsfl8a//+q/f+9738HhA5fXr1w850IC2dEgIXAmBVFEh+A5xkl/96le/+93vkPmv//qvX//618jgHugTBYbtn/70p5/85Cdw/8PfB8/d1q1bf/CDH/zxj38EjXZ3d/fVjDIDXemll16CqRuT7QkTEgoFvIp99xJKYDvjTlu7di2iJdBBsMftjem8++67OBulPLFWg9UJyREU/sUvfoEYDkKxTzzxBA4xIhwLwOQb3/jGfffdB6YD4/Sl//k//+emTZv6xoIO+9vf/hYsCcUKkkOFxOMHz5tnn30WnA5HW1/NZGVAhZB8w4YNv/zlL7Hc8D88+eSTWFksBChyyFHQBGgPn1BnyLZQDHft2vX0008/9dRTL7744m9+8xsMDdyGrEyFmYLAmMuZKirEVQ5rF4ELKAtwLcF+gRsOJcFgsG/OuE9gLOP+hOYF5xSsZigCOEQhMijpqxllBoOiK/gcY2oLwcAy2ON+jgwEHgf7QBKoG6BXdIs9JoLp4JYDK0WqJX2Pmx+SI6KCgTAclGjoTZAEI0IGYHJwqA01+z82wH1AG9yNQrQC4GB51IHGDVcsQE662OgQkgMZKKEYCHuAieHwbIMAOJvcMisB9QAAEABJREFUhLEwEfhhcV2dPHkSk8XQmGZyR6Hecg2BVFFhBEfcCbi3wSNgGVzBkcL+e1Tofwp1UIJ9/zqpzoNicN+CQDF031iQAYL1L0EehX0V0jkDUftTHsRGySgIjFFASXiQYMRUD4chsECRh0Sqx6L+cwGB1FJhLiBIcyQECIEsQCC1VJgFANEUCAFCIBcQICrMhVWmORIChMAICBAVjgAQnSYECIFcQICoMIFVpqaEACGQLQgQFWbLStI8CAFCIAEEiAoTAI+aEgKEQLYgQFSYLSuZ/HlQj4RADiFAVJhDi01TJQQIgSshQFR4JWSonBAgBHIIAaLCHFpsmmp/BChPCPRHgKiwPxqUJwQIgRxFgKgwRxeepk0IEAL9ESAq7I8G5QmBbEGA5hEjAkSFMQJG1QkBQiAbESAqzMZVpTkRAoRAjAh8ToWfngns+o8SSoQAIUAIpD0CyWeqz6nw++u8V//MTokQIAQIgRxE4HMqjFGdpOqEACFACGQPAkSF2bOWNBNCgBCIG4G0osK4Z0ENCQFCgBBICAGiwoTgo8aEACGQHQgQFWbHOtIsCAFCICEEiAoTgi+mxlSZECAE0hYBosK0XRoSjBAgBEYPAaLC0cOaRiIECIG0RYCoMG2XJtMEI3kJgUxGgKgwk1ePZCcECIEkIUBUmCQgqRtCgBDIZASICjN59Uj20UOARspyBFJIhfplX62/sy/dXTq7ihszMOfN/uWf7/mXu8dsfBqYECAE0huBFFJh8ezrZl5zXeOCxeG08IZr7vvpXb99tHGGOjFA6sd/+6fz/qE+sU6GaX3dtId+Ou2aYSrQKUKAEMhCBFJIhWG0XAc2//PqF5G+c+/zv9rUwZZOu/1effhE3H+GvOqqomJD3O1HalhYUFVVkD9SLTpPCGQXAjSbFFNhf4BPrN133CMxlxT3FRrnVX/jx9c89NPF//TVoonqvuLejMF043eveuin1/xgTf01n+mA8gVfqr9zjkEmkefPqb/zS/mlvRU/300tvfOrpVMNpn9YsxgN//m+QX1+XlUy1NC9Fn2VSiJRVcCuvyExyu43FmUJAUIg7REYRSocgMWC737xP7511eR8OBC1NdctffDxxbfUflZFtXj2Y0/ceHN9nkwi0dXOvPPHX/rhl5QSiby4urimRMNKOG1JcU21YaBq2DD5musWf+Px5fPQp0xft3jpg4/NXjCAYXtHuMLQqtLa4pp8DKQ0IzMOnNhbm3aEACGQ/QiMIhVO/Or0OrWk49S5MKpTZ97SpHUd2Pi/fvDeoz958wf/vqtZVnH93dW99KP/8u0TjfYTz63Z8NOfbH74Wy9tOi+r+cKcG9Wulx/f/OirrX6J99yrmx99/PTRcEcD/oLn//biDx/a/OhDr/7y7Y6gYeLy2+UDakiuOHTHf/9k86N7rBKJdR8yf+wY2JCOCQFCIDMRiELqFFOhduo1v33mjnD68z0PXlfkP/Xxn9cGIFbTkgqjpGPXHy1eHCCdOrH5qE9WVRmOVzTVTTBImrft+sSDE0i+F98755KVNi5FfsRkP/82H6l05oWwPV5UWxE57NsPN3RfJcoQAoRAbiGQYir0t57+5INDn3xwtNkukXhO/O3fz53pxbcmXyvx2Js/I7tw0SetdolMrkF2okEvcVnPIncpfdBjlXCy8LlLJVH9t3R0oR6Hv/5puKH716M8IUAI5BACKabCoOXCX9ce/evaQ0++ec6rHn/d3Z+Zqz0e6IZc/8FL1Z+dkli9fomUvXQUXotSORx44Uxsf3LFUI7C4YaOrX+qTQgQAlmDQH82SuWkvG/v2dPFVSyefV0vPR1tdUjUBQ1T+4aUX11rCuuJKDjQY5Moy6d/HsAtXVpWMEBPRDWJZKgdx/b2Hz6lLi01SvweVzjf72+4oftVoywhQAjkEgKjRYUSie+5v51wqauv7f1cYevfDp7w6JtWX3XLVE6ili+475oFpXzzBwe3A/vWox8c9RmbrnnwS3qjRFK0uPGBxfnB80ffDp/DaSRtSYPWaOB6Yyw47J/y562ZOKNUIjGYvvqv82pkriNbWvufRn64oXE6nAxVN3DoP5ylP0KAEMgJBEaPCiWS7bs+OMWbm+bcAarytP7xie2nJBU3rrnrqT/e8dXF+p7t7/3qBV8E801PbHz7lKT2lhWP/fme/+++afquQy88diLiZJRsP3vcLilY/MXHHps5LVL7sr21TTLlG4/e89QTN4Jbz2/atPZzAr1Ub9ihJVvPng8qa+++67E14y81oP+EACGQ9QikkApPPHLv8z943NIfwtf+/S/fXP3ei72Kmvfo6V9+9y/ff+jV3z720o/vffHhvmgyGnhcr/z7q//0rRd/9dirj373+e8/tP9SNBnnLH/67vMPo/zHuwaznEQSOPvvL0UaPvytFx9d6/KiBdL2XT+49/lHXkAunIYbuvX0o6v/8uhjrz782Ilw1TH8o6EJAUJg9BBIIRVGNQlvq+voUZ9tyLqewImjrvP2Ic51XKH8s6q9DTv6hac/K7/835WH5s8fdY3Y/PLO6IgQIAQyGoGxpsKMBo+EJwQIgWxBIJuo8M2PfvvYR+9my8pk+zxofoRAWiGQTVRo913R1k4rzEkYQoAQSDsEsokK0w5cEogQIAQyBQGiwkxZKZIzoxAgYTMNAaLCTFsxkpcQIARSgABRYQpApS4JAUIg0xAgKsy0FSN5CYGxRyALJSAqzMJFpSkRAoRArAgQFcaKGNUnBAiBLESAqDALF5WmRAgQArEi0J8KY21L9QkBQoAQyBIELqNCD22EACFACOQkApdRYZbQO02DECAECIEYEcghKowRGapOCBACOYQAUWEOLTZNlRAgBK6EAFHhlZChckKAEMghBIgKs2WxaR6EACGQAAJEhQmAR00JAUIgWxAgKsyWlaR5EAKEQAIIEBUmAB41HT0Eoh1p2bJlM2fOjLY21SMELiFAVHgJCfqfFQhUVlYWFBRkxVRoEqOKAFHhqMJNgxEChEB6IkBUmJ7rQlLlFgI02zFHgKhwzJeABCAECIGxR4CocOzXgCRILgJNTU2rV69etWqVWq1Obs/UWxYjQFSYxYubo1Oz2+3Nzc2tra08z+coBOk27UyQh6gwE1aJZIwFgVOnTm3cuHHLli1+vz+WdlQ3pxEgKszp5afJEwKEQAQBosIIDrQnBAiBnEYgASrMadxo8oQAIZBVCBAV9i4nw/BKdffMxY4JU4KGvN4i2hEChMAQCIhSmWtcvXXaAm9p9RCnM7aIqLB36UCFCpVl3vW2hjl+U2FvEe0IAUJgCAQEqcxePxN6g4eocAh4Mr1IEBhRCKk0AWM+r9b2zoZ2mYqAUqnU6/U6nY5l6Umf/EUUWc5vLsZtImYXvHStfHatMIIgc9oEmZyXKz8ron+ZicD8+fPXrFlz//33azSazJxBekvNcQF9Huv3cl5Pegsam3REhZfwEvgwFcoVvIKo8BImmfn/8OHD69ev37Bhg9frzcwZpLHUDCNw0pDWwPm8nI+oMI1XKm7RGFGUOaAVKgSFKu5OMqhhFova2dkJNjxx4kQoFMriaY7J1MI8qNYKcoXU6yYqHJMlSP2gYa3QKrIcr1CJnDT149EIAxGQSqUGg6G4uLigoKD/14eRN5vN+fn5yDAME2kWqVxUVAS3oFwujxTSPtUIiDJ50JAnsqzUbScqTDXaY9N/WCt02RhREJQqXkmK4WivAqgtLy+voaFh5syZTU1NVVVViH4wDAOaq6ysnDJlytSpU6urq1GIYAjHcahcX18/Y8YM7MGSKBltiXNyPDjTA6BChpU6QYXubMKAfIWXVrM3bMKGgtAKQ2rdpVL6P0oIlJeXL1q06Kqrrtq3bx8UvauvvnrevHkymQy0uGTJEhClw+FYuXLl5MmTEQypqKhAzTlz5hw4cAAUiQqlpaWXCUoHqUEAVBg0mCUcJ3U7uOxyxRIVfnbJQB+Er5AJBnqpkD5P8xkso/aP5/m2trYtW7b09PR0d3frdLqIDgiaCwQCra2tkfK5c+fCWB4/fvzEiRNPnTpls9na29tNJhPUxlETNZcHEmSKoCGP9SFm4mWFrHLFEhV+dmEzoih12thgIGwga/SfldK/0UIApAZqQ7gDxAefINRABD2wh/2LQLDVavV4PB0dHbW1tWBJuAgLCwubm5uDwSCCJAqFAkb0aEma0+MIMnlAa5K5HWzAJxGEbMKCqPDSagoC3MBYYEEqJwP5Eiij99/pdILUfD4fVDyETex2+8mTJ+EBxCHIEeVgPZfLZTQa4T0EV6pUKtQRBMHtdqMabOo+WcGS8DlGEnizrzyLMmM2FQFaod4kc/SwwWx7ARpR4edXFSPwUp9HZNgQfeHkc1RGL8eyLPyA06ZNQwYewz179iBsApqD7YwE1gMbwnuIElSAWKBIURRRiD30R5REEkgQXsVIKikpiRTSPgkIMKygUAZBhXYrGwgkocN06oKo8LLVgDMYxyEykIHCqCdodnD5IRwMj+Hu3bsj9Ae7GFFjJJAgVDwYy+A+kCDOGgwG0KJWqwUzQm3sk3fbtm2PX9rOnDnTV06ZBBEQ5PKQSiNyUrmjm7TCBMFM9+ZSj1PCSEIaiiCP9krBEB43bhxMY5BgS0sL3H8ogSYILoPGB20RJbCOz507B4sYcRWLxYL4CdRGECJ48OLFi30S4xDh5kiCw7GvnDIJIsAr1SGtnpFIZFYLvOoJ9jZM8zE5xY7JqGk7qNTtZEQh/FVzjpOAFCW0jRIC4MHFixfPmjVr/vz5t9xyy2233TZ79myQ2gcffAC3YF1dHSqA+3bt2gUSPH369KlTp2AII45cVVWFoAriLaMkaA4PEwIV6owSnpfbSSvM9usgTIXBAC9X4gEoYfH8y/YJp838oPpBxQP3IRY8fvz44uJiaII4hLXb1taGUAm0Qqh+e/fuRbQEuuGBAwdgJkNPhJJ44sQJMGPaTCVrBeFV2qBaz4SCMoeVDQazbJ6kFV62oJzbwfm8glQW1JlEhqjwMnBSerBz587f/OY3jzzyyKO9289//vOXX35ZEATYwq+//vrbb7/94Ycfrlu3DiohvIRwIB48eHDt2rWffvrpSy+9tGPHDpBmSsWjzoEAr9LwGh1uEKnXxfAhlGRTGj0qzAjUoBVyfq/Y+4kBhJIzQuZcEBKhksE/X4fAMaIoYMZcQCAd5himQoUKMRNG4NNBnuTKQFR4GZ4Im+ChJ8jCWqEku95Medk8M+0ArIc0WOohC5uamlavXr1q1Sq1Wj24CZXEjQB8hbxCKbd1w10Ydydp25Co8LKl4fw+zu+RMExQDwOZwLkMnEw5gDOxubm5tbWVFMYkLpnIctAKRZlcbrcgtJjEntOkK7rbL1sIeEBYn4fh+aDBFJtWeFk3dDCWCCCEsnHjxi1btgy2qcdSrAwfm1eoQIUSMfxJGkYQM3w2Q4hPVDgQFBjIbMDXGzYhcDytK0MAABAASURBVAaCQ8c5i0BIZwAVskF/2EAmX2EuXAdhKvT7gnojaYW5sNw0xygRCGoNIaWGDQZ6wyZZ9SKGCAKk+ERw+HzP+b0ctEKNXuA4OA0/P5HTOZp8riMQ0hl5pZoN+GWOHvIV5sTVwPk9nNcthD0jWpGjN/vnxKLTJEdEIKgx4HbgPE4u4JeI5CscEbDMrwADWep2igwX1JsEqSzzJ0QzIASSgAB8hRJGInPbJdn1msI+aMhA7oPiswznc0ux3hwbNOQJMvr9oM9gyaB/yth/Ej6DZjdWogZ7X9ckddrHSoBUj0tUOBBhzueRuhwiwwb0eaQVDkQnE47nz5+/Zs2a+++/X6PRZIK8GSCjyHJhrVAUZC5HBogbl4hEhQNhY4IBKIbYB/UmUa4YeJqO0x6Bw4cPr1+/fsOGDd7s+h2isQIeakFQZ4T3nPP7pC7bWImR6nGJCgcizAgCHMNStzOoMwkyosKB+KT/cWdnJ9jwBP0kfN9SJZgJO4vMgkyOcKLMRQZygmhmVHM2GJA5bUE8CaXkK8yolSNhU4AAtMKAEVSokMJ35CStMAUQp22XTMAvc9lCeqMgJypM21UiwUYJAZFlA8Z8+M2hFUrd5CscJdjTYpiIVhhSaeAfEVkuLWQiIQiBsUKA5QKmAobnOa+H5fmxkuLK4ybnDPkKh8CRDQVl9h6JKAmptbxCOUQNKiIEcgYBEVqhqSD81QOPMys/XB1ZSaLCCA6X7aEVynu/XRTS6AUVfSDjMnDS/6C2tnb58uVLlixRKCjqlfByMYzISQNGc/hDZl5Xwt2lbwdEhUOsDagwrBUKQlCjDylUQ9SgojRGwGAwVFRUlJaWchw5NxJdJ6iEvFIV0hg4j0vqdSfaXRq3T1sqHEvMmHAE2crwoZBGxytJKxzLtYhj7D179jzzzDPr1q3zeDxxNKcm/REQpPKg3ixwnMxp4zykFfbHJgfyjCiwAb/U4+BVaqQcmDFNkRAYGgFBrvCbCiScFFRIWuHQGGV3KSMIcocNEWReSb+Pkd1LTbMbDgFQIcLHokQic9k58hUOB1WWnoNiKLN387LeH0ROwRypS0IgIxAQ5MqAMZ8L+DmPkw0FM0Lm+IRk42uW/a0EXm63ijI5tEJ4jrN/vjRDQmAoBASZImAwS51WsGG2vp4rMm+iwggOA/eMIEIrlDASXqnBg3HgaTomBHIDAUGhCBrz5PZuNuDL7hkTFV5hfQUeVMgE/LxKFdLqr1CJiq+AABVnBQKwh3i5MqjVy22gQn9WzOmKkyAqHBoa+Arljh42GIBWGNIYhq5EpWmJQFNT0+rVq1etWqVWU8groRXileqgFhc/I+/pZANEhQmBmamNGVGUOWxsCFSoCmp0mTqNnJTbbrc3Nze3trbyfNZ+YXZ0FpZX64L6PDiLFFZQIRnIo4N6uo0iCJzXxfm9gkxOBnK6Lc7w8qT+J+GHHz97zobU2qDOyPBBudVCWmH2rGusM2EEQepySRg21PurDrE2p/qxIsAwjFQqVSgU2LPsZ64bZORyOQqR5HI5x3Gohp5RLpPJlEol9sijhFLSEQAVhnRGzu+TuewsH0p6/2nV4WcXXFrJlD7ChH/vSSIJhd0l6SNU1kqiUqmqq6vnzp2LfcTNB44zm82NjY0oRJo9e3ZZWRk4ERCgQl1d3eLFi7HX6ymuBUiSn2Ag80qN3GZhwIPZ+IOf/SEjKuyPxsB8LxWKYV8hwww8R8fJRgDKYH5+/k033TR58mStVovuofFNmjSpoaFh/Pjx5eXlxcXFqMMwTElJyZw5c8CM586dmzp16oIFCwoLC1GfUlIQ6OskpNbxSrW8u4sRst/rSlTYt+5DZGRuJ+wCXqXhZQoJQ2w4BERJLAoEAlar1WAwgAdBeegZ5nBBQYHFYjl27NjRo0dPnjxps9mCweC4ceOgKrrd7vb29lAoVFVVBcZEfUpJRCDsJVdpRE6KmIkkBwJQRIXDXTxSuEh8PkGuDOkMIlHhcFAl4ZzP5wO1ORwOsFtfd/APdnZ2ohwkCE7EWcSFoSHCUgYzoklLSws8hhMmTOhrQpmkIBC2jjU6iRCS93QwgpCUPtO5E6LC4VZH6rRzPjcejwFDnoSll98Nh1WKzgmCUFpaClt42bJlS5YsgesQCqNOp4PmCHLEWZfLhZK8vLw+AcCM8B5GEk71lVMmJgQCOhMMZC7oV1g7GDGLDOQroEBUeAVgeotlHgfn9QgyRdCYL16Kafaeod1oIAD18OzZs/v27XvnnXc+/fRT+BDhSYSjkOuNI3s8HlCh3+8XRRHKY59A8+fPX3Npq6mp6SunTEwIBPWmkErD+n2K7g7SCmOCLgsrc14PtEKR4QKgQoYeG6O9xKDC48ePw0CGXdzR0XHhwoXa2lrogygHCSKDELNKpcIehNgn3OHDh9df2tra2vrKKRMTAkGDWZTJpW4H5/NIyECOCbvsq8yEglKvh+WDAUOBhCMDebRXGOYtIiRqtRrEhwQGZJhw8Aqmsd1uh7EMEoQhjHgL6LJPOOTBhpHkdDr7yikTEwIBvQn+cZnDyuRAzATIZIumg6mkJkW+cxIwmkXSClODcF+vCoUC8WJoeUaj0WQyweUnk8lmzpwJu7iioqKwsBAOQYRKwG7Nzc3nz58HSxYXF8Nehs6I8r5+KJM4AnAHBeEfFwW5vSfx3jKiB6LCEZaJ87pZvydgzBNZ0gpHwCqR0wzDQL+rq6sDIYLdwH1gQzgBg8HgjBkz4P4D8UEH3Lx5MyxlWM2HDh0aP358Y2NjUVHRxYsX9+/fn8jo1PYyBBhWUKiCWgPL8zK75bJT2XtAVDjC2kp9HtjIIbWeVyiJDUcAK4HTYL3u7u7333//xz/+8a9//WtkQHler/fll19et27dpk2bQIJPPfUU9EGQI6LGu3fvfvLJJ7dv37527dqtW7eiZgKDU9PLEBBZ1m8qFBRKqcdJWuFl0OTyAbRCqcsuchzsBUEmGyMocmJYeAPBaD09PTB4fT4fDsGPCBPDMxhJKIe7EIU4Bf8g3IWRhMoozAmMRmWSYSrMLxEUKqmbqHBUEM+IQTivS+q0SdhwEFmQKTJC5iwTEsTH8zz2g+eF8sEkiCjz8uXLlyxZAlt7cBMqGREBkeX8+cUiy0oRPnY7RqyfHRXIQB5hHTmvR+Z2iIwkYMgnKhwBrPQ4bTAY4GosLS3lKOgf14qILOczFzPBgNTtZLP6p536w0NU2B+NIfJcwIcLguH5gNEsyOVD1KCihBFIbgd79ux55pln1q1bB+M6uT3nSG9wB/nNxVKfF77CHJkypklUCBCGTaLI+r0ye0/QYCatcFik6GQ2ICAyDK7zQJ6Z8zg5V65Yx1g5okKAMEJiA3650xrQmwQ5+QpHwIpOZzoColwZMOULUrnM0SPNGUchVo2oECCMkNigX27vCekMgkKFZ+YItek0ITAAgYw65OUKv7lIwslwzcs8roySPSFhiQpHhg9aoczWJciVIbUWz8yRG1ANQiBjERAUSjgKJaIgc1g5L1Fhxi5kKgTnQuGfuWEEIag1hFT0e5KpwJj6TBcEeLkyYC5mveGYCZSAdBEr9XKQVjgyxmzAp7BZJAIf0pt4VfhF8yO3oRqEQGYiENYKjfkKWyfnj/LXPjNznoOkJiocBMmgAiYYgLHABoNhrVBNVDgIoDQraGpqWr169apVq9RqUuFjXBuW5RXqgMEs7+li/d4YG2d2daLCkdePEQRcFlK3nVdreZVm5AZUY0wRsNvtzc3Nra2tfG68XSqJYPMyRUhrEOQKRU8njKEk9pz+XREVRrVGjMDLbRZeoQoRFUYF2FhWOnXq1MaNG7ds2dL/fa5jKVDmjI3AYFCfx0gkiu42LkAGcnjl6O8yBKAYhqlQqeI1Ovrpu8ugoYMsQiCk0QcMJoYPhbVC8hVm0combyo8r+jpEhkupNQKMvqgdfKApZ7SCYGQVh/UmzifR2bvyZ1vH0dWgAzkCA4j7BlRkPd0sMEAr9EFdYYRatNpQiAzEQhpDCGVVmFpC/OgKGbmJOKUOkepMFa04CtU9DqS4SvEYzPW5lSfEEh/BESGDen0vFKltLThgk9/gZMrIVFhVHgygii393B+HyLI8CtH1YYqjREChYWFDQ0NEydOlEqlYyRCRg4rqNRBjV7CcYrOVqLCjFzC0RBaFDifW+p1CTJ50JA3GiPSGPEiAB5cuXLlihUrVCpVvH3kYruAIS+kNbB+v9LSyvB8rkFAWmHUKy6KMkf4178CWmPUbcaoYm4Pu23btscff/zpp592u925jURssw8Y8+Er5AI+paVNQlQYG3g5VhthNYkoBnUmCUOPkPRde5/P53A4nE7nkL8BkL5yj7VkAWOBoFBIXXap28lIcitmAuzplgYI0SaZw9obRNaGlGoJS9BFixvVywgEAqZ8RE5ktm4mFMQjPyNkTqKQdD/HAKbM0cN53bxCFTSacdHE0JKqJhMB6ivZCDCMKJUFDGbYxeE3jyS7+4zoj6gwhmWSOazhyIlc4c8rFEkrjAE5qprWCIgSJqTRhXRGLhiQ93SmtawpE46oMAZoZU4753EiiOw3FZJWGANwVDW9ERA5zldQBnNH6rLJrV3pLWyqpCMqjAFZlg9KPS42FAyE33jOxdCSqhICUSMwBhU5qbewTJApZS6nvPdjEmMgw1gPSVQYywqIYpgK/V5/XoHIEhXGAt0o1q2trV2+fPmSJUsUCvq2eFS442L2FZUxQkjqtLI+T1Rtsq4SUWFsSwoqlPo8AWM+3Mz0iprYsBut2gaDoaKiorS0lOPocRUV6EKvgcx5XTKXncmxrx73AURU2AdFVBnO7eBcjpDWyCvVeJZG1YYqjS4C9JPwMeENr3f4Jf55RVKXQ+q0xdQ2nsrp2oaoMLaVkXrdcqdNZFm/KV+Qk/0VG3pUOw0REJQqX34JLma5rUvmsqehhKMjElFhbDjDQJY5rKDCQF6RIFfG1phqD4uAUqksLy+fPn069v1/lqSwsHDKlCnTpk1Dhr30GSZUqKmpmTNnDvZarXbYjunkcAggcOwrrhQ5qcIKKiStcDis6NznCHA+D4wIhhf8pgJeJv/8BOUSRkAulxcXFy9btqyurk6j0aA/OPuqq6tnzpxZUFAAvkMkBCyJYEheXl59ff2MGTOCwWBjY+PUqVONRiPqU4oDAbh6vIXlXMAns/dw3hyNmQC3JGmF6Ck3EhMKcl4353UFTIXwsOTGpEdplnzvNmnSJBAi+A6jYj9v3jzofT6fz2634xR0RkRFqqqqmpqakDl79ixIEGyIOqhPKQ4EeJXGV1gms3ZJ3Q6GD8XRQ3Y0ISqMeR25oF9ut/iNZkFOBnLM6A3TwO12nzlzxmKxQNeLVAMVLlq0CCTY0tLS09Nz7ty5WbNmmc1mEB+0xYMHD3o8HhTCWAYbRprQPiYERJYLqbR+c5HK0gqLJ6a2WVaZqDDmBWX9PoXNEoTp3ZKMAAAQAElEQVSBrFDR52lihi+WBhzHlZSUgBlBediDE6EwwqWo1+t1Op3VahUEwel0SqXS/Pz8WDqmup8hEFJrA0YzCFHZ1sz5vJ+V5uQ/osJolv2yOqzfK+/uEDhpUGfglerLztFB8hBgGAZBEhAfSDAQCMB69nq9OJT1bmBJ8KMoirCdMSbKsY8k2M6rL22VlZWRQtoPiUBIbwqYixlBULVf4Hw5/XpHosIhr5DhCrmAX9ndwUjEoMGMh+pwVelcAgiA5pBCoRBYD3ofmBEciENogqBFnEKYBd2jEKdQjnwkQXlsvrRFiDJSTvvBCAR1RmiFUq8L4WM2EBhcIXdKiApjXms24JN3tyN+EjTkhdS6mNtTg6gRAOV1dXWB8lQqFfaIk3R3d4PdXC4XHIsmkwksicgyqtlstr5eT506tfHS1tmZo+9Z6UNj+ExQbwIbyrs7OK+bEXLuJf79wSEq7I9GVHk2FJQ7bJzfG9QaQppsoMKopp36SjCHEScBu0HRA/HhEKbx4cOHoRKC9XQ6HYLFx48fdzgcHR0d7e3t8BuCIhFFAS0ieJJ6AbNtBJFlgzpTSKVRdTTnOA9iaYkKAUKMSRShEiq6OxF6C2n0MTam6kMjACMXpDZ37tyysrIpU6ZMnjy5qKgIzsENGzaABOfPnx/5dOHWrVuh6IEfDx06hMoLFiyYNGkSNMfdu3cP3S+VXhmBkM4Y1BlBgqr287n8MZoIQkSFERxi2+PqUXS380pNLxUysTWm2kMhAN8f1L09e/b84he/WLt2LTIIEMPybW5ufvPNN7ds2bJz586//OUvLS0tCKHAHEaF9evXHz169LXXXvvkk0/gHxyqVyobDgG/qRBUyPm8qvYLTO79rtMAaIgKBwAS1SEibgpLm4RlQYW8UhVVG6o0EgJ+v7+1tRUcd+TIkba2NvgEwY/Ynz179syZM+BEWMfQExE2geEMpyF4EPVPnjwJYxmkecXu6cQVEPCbi2HZSD1OhbULl/QVauVKMVFhXCvNh5SInAT98BXiuRpXF9QoBgTAdKC/AQ1AlNAQwYwDygsLCxsaGiZOnAgn44BTdNgfAX9ekQinbOT7dqLQ/1QO5okK41l0PEIVlnYu4INWGP5xnHj6oDapQgA8uHLlyhUrViCokqoxMr9fkeX85gKJKCq6O7DP/AklOgOiwngQZERBbrNwXhev0gSM9D2HeDBMXZsc+0n4eIAUGcSODSGdiQt/X6Atni6yrg1RYVxLiiAyH5L3vq0raCqIqwtqlCoEfD4fIjBOp3Ow7ZyqITOtX5HjvCVVIaVG6rCFtcJMkz8V8hIVxouqKMpt3bAsAkYz4ifx9kLtCIExQEDkpN6ycaJMKnf2yO09YyBB+g1JVBj/mshtFpYPBbUGPvxeBkIyfiSp5SgjIEqlntJqJhSU2bu59P5dp1FDhm7g+KGWWS2c28krNX5TocgSkvEjSS1HFQGGFWRKb3GFzGmT262jOnQaD0Y3cPyLI7d2ydwOQanyF5aKLP24WvxIUsvRRICXK/wFxbxKp+jphFY4mkOn81hEhfGvjtTjlLodIsv68ktEjpCMH0lqOZoI8CqNp6Ra4KSKrjYZOQovQT82N/Cl0TP7PxsKSl12NhjwFZWJpBWmzWLW1tYuX758yZIlCgX9JOEQqwIq9JZWhz9GY++W5vY7CvujQ1TYH42Y86BCzuP0mYtFmVzC0JeRYwYwFQ0MBkNFRUVpaSnHkddiEMAMG1Jr4ShUdHfIXHYmlLs/ZjIAGqLCAYDEdihzOXA9BfV5vEpNimFs2KWs9p49e5555pl169Z5PLn7+21XQleQSoNaQ8BUqG47y3lcV6qWg+VEhQktuhQxuJ4ukZP58kt5xaVffUqoS2pMCKQQgaDe5C8olYiCuuWM1JvTb/AfgDJR4QBAYjtEBFluAxVy3sJygX7nJDbwqPYYIBAw5vsKStiAT9XezNEnCvutAFFhPzBiz7J+Lwxkzu/xF5bxCnpbV+wIUovRRSBgMAcM+QpLOwwahidH4efoExV+jkUcOUYQ4HCR27p95qKcocI4cKImaYGAIJNDK+SValjHbCgoEcW0ECs9hCAqTHQdOL9P0dUOPzSv0ogM4ZkontQ+dQggvhc0FTASiablDAMqTN1IGdgz3bqJLhrn9yq7LgpSGRzSvIp+FjlRPKl96hCAR9tvzIcdo24+SdbxAJyJCgcAEvMh6/UoO1sYUfSbCkJaQ8ztqUGyEYj8JPyqVavU6nieTMkWJ4368xVXCAqVwtopc9pwxaaRZGkgClFhoovABf2K7g424A2Y8oM6Y6LdUfuEEbDb7c3Nza2trXzO/3TR51gyDByFvsJSiURUdl4kR+HnyFzKERVeQiLe//C5SF0OucMadsRoiQrjxTF57U6dOrVx48YtW7b4/f7k9ZrZPcGLHY4d91rHqo7mzJ5MaqQnKkwCrqwQUra38CpdWCukr98lAVHqIskIhF9QWDmBV2nlNouyoyXJvWdFd0SFyVjGUAhPWoHjQnoTfaQmGYBSH0lGQORkrsoJ0A3lVouM3kYzFLpEhUOhEmMZI/DKjgtcwBfUGQIm+qmTGOGj6qlGgGF5ucJTUSt12RS2LlyuqR4wE/snKkzCqjE8r+xq5bxuRJD9eYVJ6JG6IASShwB40J9fGjDkKS3t8p7O5HWchj3FLxJRYfzY9bVkREHmsEmdNljH/ryivnLKjAkChYWFDQ0NEydOlEqlYyJAug3Kq7XuivEiJ1V2NMttXekmXprIQ1SYnIWA0aGwdooSScBcRC8uTA6m8fYCHly5cuWKFStUKvpWeBjEkEbvrprABrzK7jaZyxEuor9BCBAVDoIk3oLwpwtFPmAyCzIFsWG8KCah3bZt2x5//PGnn37a7aaXUElENvzr756yGvXFc1KXk753fKUrLCOo8ErCp1e5ortd6rSHlFpfQYnI0vuTx2x1fD6fw+FwOp2CIIyZEGkzcFCf5yssx+NZe+641E0q4RUXhqjwitDEekJh7YLHEO5Cb3GVSK+SjxW+QfVZllUoFNXV1TW9W1VVFZyAKERFjUZTXl4Ob2B+fr5cLkcJpSshEMgr9BZXsEGfpvmk1Euvrb4SThKiwitCE+sJqIQyhxWmsbcUVEgO+1jxG1if4ziTyTR79uzp06c3NjbW1dWBClFoMBjGjx+Pw6KiohkzZhQXF4MxBzam4wgCLOs3F/nzixWWdiQ2QF+/ieAyxJ6ocAhQ4itC5ETm6OE8LmiFAhcDFcY3XNa3kslk4L76+vqCggKogdD+IgYvSubNm4fCY8eOLVq0aNasWdANsx6N+CbIyxR+c3FIpdWePcoGA+QoHAZGosJhwIn5lMxhlbntvoIiXqkmd2HM8F3eQCqVwhz++OOP33jjjVdffXXTpk0nT54MhUJNTU1KpRI8iKjI4cOHx40bByXx8qZ09BkCvqIKUCHn9ehOHwm/guGzYvo3BAJEhUOAEneR3GlVdHcIMiUuQTgN4+6HGgIB2MJqtVqv18MKvvbaa2fOnAlDmGEY2MXQEK1WK8/zFovF2LuhPqXBCHjKxgV0Rrm9R9V2nqH39AwGqF8JUWE/MBLOSh1hKux1F1bzKk3C/WVFB/FOAkzn8Xi6uro6OzuhHk6aNAmECH0QxjK69Hq9oigiTAx+RCFK+lJtbe3ySxtM7L7y3Mr0vpXLU1IlslJl+wWp1y0RKZ4+3CVAVDgcOrGek/q9cns353N7SiqJCmNFb0B9v9/f3t5+/PjxvXv3whyWSqU33nhj5FPTIMEBlfsfIq5ScWkbwJL9q2V3XkTAJK/QX1Aq9bk1rWclEjG755v47IgKE8ewXw+CwLmdys5WX2F5CFohw/Q7R9nYEAgGgzabrbu7Gxkohl1dXWVlZbCa4SKEkqjVarGHcRwIBHw+X/+u9+zZ88yl7cKFC/1P5U5elMpd4xtDGp3C0qa6eCZ3Jh73TIkK44Zu6IZSn0fVej6oNQT1JsTvhq5EpVEggBjxkiVLYOEilAyjGH5D+AcRNmlubobhDBIEFSJ2HGHJKPpLUZU07VaQSh3jpzACDyqUOWxpKmU6iUVUmOTV4LwudetZRiL680vAhknuPZe6gxWM8Mhtt9121VVXzZo1C/GTV155BQrgtm3b7HY74sgIp1RXV8N2Pn36dC4BM/JcBZncbyr0llSAB5WWVkYkL+HIoBEVjoxRTDU4vy/8wi6f128uDhrNMbWlyv0RcLlccBSeOXMGsZG2tjaYvSBBUCFK4D3EKZTv3Lnz8OHDPT09/RtSHnaxe1w9r9apW88rLe0ESDQIEBVGg1IMdZhQUOayya1dAaM5YCAqjAG6AVVhBYPv3nvvvSNHjuzbt2/Hjh0gREEQUA76++ijj06cOLFp06aLFy/Cah7QNqcPGSaoy3PUTuE8LlX7BZnDmggaudOWqDD5a82EQrCR8UwOGswiS187SQhhnufBfYFAYEAv4ERoiDCiB5TjEFFjWNM6nQ7ORBzmWhKksoCpwF0xXnPhpNxqwbM51xCIb75EhfHhNlyrMBU2n2b4ELTCgDFvuKp0LgUIzJ8/f82aNffffz+CLSnoPt279OcVeSrGSxjWcHyvzEkqYbTrRVQYLVLR1wMJqi+e4XyegNHsKyiNviHVTAoCMJ/Xr1+/YcMGr9eblA4zqxNfUbmnbJzcZglfhF56Y+Owq9fvJFFhPzCSlEXATm7vltksvErjKyxPUq/UTbQIdHZ2gg3hScxBH2JIrfUWlQfVOu3ZIzKXHU/laFHL+XpEhSm4BESRDfiVlnZRwvgKSsTwW2ros9YpwJm6HISAr6jCV1jBBgOGY3uZAL2SaxBAVy4gKrwyNomdUXY0c0F/IK8opNGJxISJgUmto0FAZBjnuHp/XqGip1N77hjLh6JpRXUiCGQjFUZmNtZ7VWcL/DUhtc5dXitKZWMtDo2f5QiAB/HQdVfWMkJIe+E4G6S3E8a24kSFseEVfW251QIqFKVSd+WEXhs5+qZUkxCIGQFRJnfUNwVMBcqui9ozRySiGHMXud2AqDBV688GfHJrF+LInopaQSaXMGQkpwpq6hcqIa/S2iY1hT/I1XZB0d1BmMSKAFFhrIjFUB9UCN3QZy4O6ozJe8V/DALkZtXCwsKGhoaJEydKpbny+XZBofIWluGhq+xqU108x1LAJPZLn6gwdsyibgEDWdnZIiiV3tJxvFIddTuqmBAC4MGVK1euWLEi8nLDhPrKjMZM0JBnnzxLkCu0546qOpozQ+o0k5KoMIULIrP3KLtaJaLgrpoIl3YKR6Ku+yGwbdu2xx9//Omnn3a7c+IDxiLH+k2F9rqZyo4Lqo4WKf3CZ7+LIfosUWH0WMVck+VDMqdV2dnqLqsJqfUSCbkLJSNuiVfw+XwOh8PpdApCTrycypdf6hpXzyuVpoM75D2dktyYdeLXyYAeiAoHAJLUQ1GUuhyaljOwXwKmfF6pSmrvh4yFPwAAEABJREFU1BkhIBE5qad0nLtyQvizhGeOSN1OAiU+BIgK48Mt2lZSj1Nz4YTIsr6ichBitM2oHiEQHQIBo9lTWRvUGvQn9oMN2dDAV/hE1w3VkhAVpvYi4LxudcsZzuPyFlX484pSOxj1nv4IJFdClnWOb/SUVssdPXn7P2aD9E27+PElKowfu2haMoLA+dyaltMBU4HfXCyhTxdGgxrViQYBlg0p1Y6JU8OB47NHFZY2huejaUd1hkSAqHBIWJJZyIaC2rNHJaLoNxcG6L3WyYQ2p/sSZHLr1Kt8BWWIGhuO7yUeTPBqICpMEMCRmzOgwvMnpF6X31gAM3nkBlQjMQQiPwm/ZMkShUKRWE/p21qQynA5WRvnsAG/5sJJZefF9JA1g6UgKkz54sFGVnRdlPd0hrQGb1kN2cipRtxgMFRUVJSWlnIcl+qxxqr/kMbgnDDVV1IF3wuokPX7xkqSrBmXqDD1SymKbCikbr8AG9lTUonnObFhSkHfs2fPM888s27dOo/Hk9KBxqpzkZP5isots5awfg8CxypcWmMlShaNS1Q4SoupvnhW7rQGDWbE+8Twy1xHaVwaJvsQ8BaVOeqm41oy796i7Ghm6L2EyVjjaKgwGePkfB/KjhZFdzuvVLtqp9CrGXL+cogfgPAlVNPgrJ6kajtnPPapzGmDtRF/d9TyEgJEhZeQSPF/hE0UXW2s3+McVy8oVRKWkE8x4lnavWtcvXN8g4SR5O39CA/X8Ctas3SmozwtuiFHC3BBUHa3Ky3t3sIyf16RIMva4OZoAZpz44gsGzAV2BpmB4xmhEqMR3YTD0qStxEVSpIH5gg9KSxt6otnRIXSWdsY1OhGqE2n40VAqVTq9XqdTsdmk+rNMIJSbWucG/m6senQDqnbQW9eiPcaGaIdUeEQoKSoSOqyKzsvSl02GDghnTFFo1C38+fPX7Nmzf3336/RaLIGDV6hRMCta95yNhjSH9+nOXc8a6aWJhMhKhy9hWAEQWbv0Z055jOX+MzFvCp7btTRAzGKkQ4fPrx+/foNGzZ4vd4oqmdAFVEq85ZWdyy8SZDLjAc+1p06xIaCGSB3RolIVDiqyyVz2XQnD4gs5y2r8RvzR2Ps3Bujs7MTbHjixIlQKJQNs2cYT0mVtXGet3Sc4chu/ckDcrslG+aVZnMgKhzVBeG8HrgLFXYLLm5fUTnFkUcV/cwczG8usk+e5ayZrOxsNe/eisgbQ69dSMFS5hAVwokOV/rY/vQPI/BSj0t7+lBIb+LzS+WsVCEIKV0DtVqdxV/FHXxHcL3b4PKMKMGVgOtBCUeKKIbfeM4wvEJlnbbAPmkm5/cVfvKmqu08Gxj4HTusL1Y5IyaYzkIC/HQWL5mywYkOV3pNTU0yO429LzYYMBzdq7F117DShSK70G43hEKcmKpfrb311lsRRohdzExpMVDOoqIio9E4sDQTjnEN4ErA9XCtzTbB45ELAi9Xds+5tmfqAjbgNe/9QHfiAMsP4SLE+mKVM2GKaS3jGFAhnmCrVq2qrKyMA5hE2jIMo9frZTLZKI87QGYmFDK1nv32+qf/ZcO6+04e/Vp7+4PNzfUej/TKbLhs2bKZM2fGITaaYHRoDcjEkRIZd6zaQuuHXhjHZCNNgDMkj+Rj3SfStmnq1P8xbx6uBFwPX2lv/1Zr6xcDvGfagu6ZV0t9btPBHfqje9hQYMgvlmB9scqxShupn4jMibTF6GAA8EDckqOH5KYxoEJcrHV1dbBV45hJIm3jGK6vSSLjDmgrE4WJ3V1LD+y86vihOmtPncezyG6f6nabg0M88CMC4KIpKCiI5Edzn8i4Y9U2QXyAMySPr5NE2pZx3HxRxJWA62GC1zvT5Zod4Ev0BfKg33Bol/7YXrm9Jz6phm+ViMyJtIVUYADwAO4O5NMhpZAKcUk1DLVNmjQJ87/S2aFafF6WBW2n1NdflZ9fKfCqYPhnKLAAWp6fptHMqqz8fJ6X53DRRH7m/PLiqI5yra1Wqy0vL593aZs2bVpUMF2qBJyB2KWj2P4n0rZMJtO0t+NKwPUAXoDHsELgr2X5q33dCyWepiLzMKIkMu5YtcV0wADgAdzRyMea0BYoJTdFkE9un5/1tnDhwpVDbTfddFMoFMK1OtTJEcqyoO1tt902ff58jdHY98OUvERSUVt7zfXXX2nycH7V1tZe6ezw5bnWtri4ePbs2d+9tH3lK18ZHp8BZ4EzEBtQGOVhIm3H19W5gkFcCZGbR5AwRla4Th54oET75aVXr1x5xzAyJDLuWLXFdMAA4AHc0cjHmsAtkmRvKaTCV1555XHaBiPw+98/8uGHu10uD8dhNXH1WxTKZ0+f/s+XXhpcl0piReDjjz9+/vnnv3Np+9nPfhZrD2NSH6uPawBXAq4HXBUuuXy3y/2f77z9+O+eGBN50nxQcAtQSm5KIRV6PB4HbYMQsDmdHYHAOrP5v8rKn53U+Ltb7vnxXfd/XFTeTXANwiqOAr/f73K5ui9tNpstjk5GuYnd6Wo2FLxxza3f/f4jT9xyz5+nznqqsuoFo6HD78sA6RMBK9624Jbk8iB6SyEVondKQyLAM8wxtfp9k/HV0rK/NczYsPgLLeXjQvSumiHBGrKQYUSpLKTSBgxmX36Jt6TKUzHeXVXnqqkP5BX6iiuctY3OmskupKqJ7vLx3tJqX2GZ31QY1Bl5pRpth+x19AtFTgr5e2Yu6lhww+mZC7dW1ryt1bxh0G3W646rlLhORl+knB2RqHBslj7EMB1S6QmGOe/32AvLXJUTAkbz2IiS9qOKMllIrQ2YCrxF5e6KWnCcfeJ02+TZtqnzrdOv6pm5uLvpasusayxzru2as9RdPs5R29g1d6ll3vVdc66zzLmue861lqaru2cu7pmx0DrtKmvjXNvkWfa6Gc7aKa6qOk/ZOF9R+WUsyYQ/3ZxaVBiWV2nAzhAVPGiZu9RdNZF1OxVHdrVfPHXa5+piJLhCUisD9X45AjlNhQzDIIbF9frsLodllI5kTqvh6B6po8c5rt5TXiMyqVoOzBTTVPZuMpkMh6M0w/iGYVkobrxcCb0Pepw3v9Q1vqFn2oLOq25sW7ayecXXzt/+zfO3P9By4z3t19zWNX8ZaM42ZZ590kywWyCv2FdQFn6/aU0DDh2TZtoa5/RMX2iZs7Rz8c1t19/RsuLe81964NzKf7pw630Xv7Cq/dp/6Jx/A/gIzd1Vdb6C0oDeFNIaQL7QHwWFUpDJobuJDCNBim86kVbQZFkWvfFKDYZwVU4EX7fc8rWuBTcIUoXp4I7Sd/5asG2jzGVnBCHSIpo9VhOrqlAocCUzDBNNE6ozJAIpuPeGHCf9ChmGwWVUU1NTVFQ0VtIxPC9z2kyHd+Pegx0X1JtSJAlulbKyMsTdFi9ejClj4ikaKCndhtQ6qMnQlVpWfO3U1x86/fWHzv/DA+1LbrU1zg0YzDKXTX9yf8H2d0rfe7H8tf9Xvf4P4599vPaZRyY+9fCkP/zv/O3vlm38S/0TD9X/7qFJT/4LCif86ZHatb8Y98JvK//2X2Wvry3Z/PeCHe8Zj+5Rdl6USBhvUaV1ytyOq2+5ePNXz9717ZP3/cvJ+//tzJcfbF7xNYzY3bTEMWGqt6QqpDOCECUJbAInDRjzHZNmtF1725kvf//8ym9Zpy/kvL6iLa9V/e2PhR+9oeyCPLENwLLshAkTrurdqqur8bSLrT3V7odA7lIh2AG8sGLFikmTJvUDZJSzIhvwGQ9sk9u7PWU1jrppqRherVY3NjbeddddnZ2dPp9v9uzZy5cvT8VAifQZUmth/FrmXtd8S1jpu3jjl7tnX+MtrZJ63bpTB6Eulb/5XPWLf6h49f+WvrO+6MPX83e+bzyw3XDygPbccXXrWWVni6K7Q261cH4v53HJHD0ye7fc1o1CUIyq9bym+ZTuzBHDsU9N+z/J37mp8MM3St5/qeyt5ytfeabqb09VvPJ/it/7G8oNx/YqO5olPO/PL7VPntU1f1nb9XdApHN3fufMPd87t/KfWm6+t/26L3XNXw7DHIa2s7bRXTnRU1rlK6rw5Zf680t88F0WlXvKa1zj6u31M6Gxdixe0XLzV8/f+T/O3/6ttmv/wV7fxAi84fDukndfLH/jz3n7P4aEnNeN52JMAKpUqptvvrmhoQExhEAgsHLlysmTJ2OtY+qEKvchkKNUKJfL8/PzS0tLq6qqjEZjHxyjn8FdgTtBe+6YyHHOmoaAqUBM9ruXI8qC1Wq9ePFiR0dHYWHhtGnToBSP/mQHjAg9K6QzuKondc+6pnPRis5FN8HrB2aBaQwKAyuZd2/O3/Fu/q738z79wHRoh+HYp7rTh0FqqrYLCkub3N4tddo4r4v1+9hQEEhKREEiirW1tcuXL1+yZIlCLkMhEwqyQT/n80g9TujgcmsX2qo6mtUtZ7Tnj4NnDcf2mg7vzDvwifnTD/J3bQqPuHOTec+WvL0fGo7s0Vw4BYZlQgFeqfabi8HX9onTeqYtsMy+FoTYueALELtz8S0dV6/oWHJL+9W3dCz5YgcOF97cufDGrvk3wFlpmzLXXTUxoDOxoYD64tm8/R8X7NiUv3uz6fAO7dmjcmsX2/th+wHgjHiIFdRoNHi8nT9/3ul0YlknTpyo0+lGbEgVhkQgR6lQq9XCTkQoP3jlr7sNiZdEkuxiUWRDQd2J/YruDl9RuWPiNEEqT+4YoVCoubn53XfftdvtmC+sY+gOuJGSO0oMvTFMSKX1FZY54QGcMh9kgWSrb/LnFUk9Lt2Zo+Y9W4s+eqNoyyuFH79lOrANfKG0tHEeF2gumlEMBkNFRQWec5FnwIhNGFEAmcrsPcqOFs35E4bj+8Jstf2d4i2vFL//cvGWVws/fL3gk43mXZuNh3bozh4BEcvt3ZzfK2Ek4EdwnN9c5C0shx2NUDX2mFogrzCk0ePxBgpWWNq1Z47mHdiGToq2voZ55e39UHPhpNRpH1G2YSpgWQ8fPnzw4MH29nax9wvsYMYopzxMtzl7KjupEPc53Ci4LPonlESWWd6rEkIfPH36NNgwUji2e03zae2Fk9CSumctgaIksuFPX8ckEmbHXb6hBAmdeL1eKIPnzp3DDRP5xhL0CEGIwTePTpKQEDfgpOAOuERdNfVQqWAFt96wylE3HWqR8fDOsrdfqH7h92VvPWfes0XdfAq0GCX3DZBtz549zzzzzLp162A5DjgV26Eogu/k1k5Ny2nD8b3QGYs+fKP07RdgU4974YmaZx8f9/xvq178Y+Ur/6d8w5/L3nyu7K11pb2p/M3n4cSsfPnp6heeGP/s49V/fbLsrecLPnnbcOxTZVcrGwrFN68BwsMoPnDgQE9PDwImsGzy8vLwwEt0ygPGyKXD7KRCuFFg/xb122A+4FqJUMO4cePKy8t37Njh9/vTZK1hx2nOHdOdPOjLL7U1zAZZxCQYOBCKXr/phpkJZDcAAA1uSURBVLOYMnDAqUhXyBQXF8OdBE587bXXIoWjuUfw1Ftc0XnVF07f8+CFW1dbp8xjg/7Cj94Ep1Stf7Low9eBABfwJoUmRmFecO1J/R653aLsalG3nsWTDPJrzx1D0jSfVLedhzIodTtQTSJJ1RvYItOcOnUq/N2vv/46ngFp8miPCJZZ++ykQvAg3Mmz+m0zZ86sr6+P2IZwqcydOxeH2COuissIF9OYL5uiu1135rDc1mWdttBbXAniiF4khIBgD/abbjg7Y8YMMCJUYPSDPfLz588/dOjQRx991NXVhcIhU9ILRYYJag0gvotfuKfllq/1zFiEIYyHd5W+89eyN58379msbjsnc/TAkISjIFN4EFMIE5wgMEg8z4RCDDySlxLyDB/C440J262p5UG4ffGMx7Ju3boVHsMxUPZ7sciCXXZSocvlgknY0m9DxAAOZp7nca1cuHBh//798LDAdwbFEPYj6o/5WnJ+n6rtvPHgjoDBDJvRV1wRvUhwG0Ed6DfdcBZTxrwwZRhQ4MHp06cDkyNHjgAHPBLgX4/oyNGPEmtNQa7wFZZZpy3ouHqFZe5Sd+UEJhg0HNtbsDMclDAe2gkFStHdAT9dL2XE2n2u18ciQsc3m80Wi+X48eN4vMFMxjMv13GJd/7ZSYVwoOCe/7Tftm/fPlwuoAyfzwdP83vvvXf06FFcQ6BCVAY7xAtgMtvJHVbj4Z2qjmZX5UREk0NafZS9w20EZu833XAWjiTMC6dMJlNjY+PChQvhQq2urp49e/aUKVNgUEfZeczVmPBr6H2F5Y4JU6EDWuYts0+eJcpkmvPH87e/W7T11bw9WzRhV6Azo3TAmGFIaQMsJVZw6dKlWFDYQPD5wBCAcYMnXErHzeLOs5MKh18wKIYIIOBKwmWEpygcaiCL4ZuMzlkYVoqeLvOu9xGaRHTVVVUnJuODNSUlJfAGIEz01a9+9f777//mN7+5bNkyhJKTP6neb1MENQZP+fiuBctbl9/dNX9ZSKM1Ht5V9vqzZRv/Yjq0Q+a0pVoHVA7zk/DJn/PY9AiNHvFiPOEWLVp0++23P/DAA//4j/8IL5BeH+3jc2zkTuNRc5EKsRxQD6ExvfLKKw8//PBzzz3X2tqKwnRIbChgPLJbd/ao31TQM2Nx0GBOnA2h//7pT3/6zne+88Mf/vDHP/7x9773vSeeeMJms+GRkNwph9Q6x8RpzV/8+rm7vt0zbYHUZSve9BKiIsVbXlW3nWMDoxSkmj9//po1a0D6IIvkTjB9eoPfA+4OrCZmiv2PfvSjhx56CKvc3NycPkJmliQ5SoXQCkEEHo/HarVGHGrpsmyiCMow7ftYc+EU4q0dC2/i1XpJYt9NhgIIhzr8AH0JjkVMP1lTFhk2aMjrnrn44hfuab/2H7wlFZrzJ0refbH0vb+ZDu5QdHdyHjcTSs4nSKKR+fDhw+vXr9+wYQO8wNHUz9A6YMO+BUUGVzJWGc/4DJ3OmIudo1Q45rgPK4Coam82HN+rsLQ56mdaY/9szbCdJ/OkIJP78kusCIwsXtE96xpvYZncZjHv2Zq/4z3Twe2ac8dwiFhqONiazGFH6Av6Ptgwe34SfoTp9j9N+fgRICqMH7vUtWSDfkRXYSnDe9jTtNhVXRfSpNMXqhgGJOjPL3HWNiIw0jX3envdDIkg6k8dKvhkY+FHb+lPHQz7BIVR/xR36paEes52BIgK03SFZQ4rCCVv74d+c3HPtKvcVXWCNJ6fLU3y9Jjed6aqtd6iCsuca1qX39l11XJep0M8pPzNZ4s3vaQ7fYgNBig0nGTYqbvUI0BUmHqM4x1BZrPkffqh8fBub0kVPHGucfXx9pS0drxC5a6c0LrszrNf/p5lzlI2GCz68I1xz/666IMNqo5mlg8mbSTqiBAYhEBKC4gKUwpvQp0zgiBz2Qu2vQ1VC7qhZd71iM+OjW7IsCGV1tY4p3X5XRdvWOWcMFXR1V609bWSd9bn7f1I2d3Ohd8xNXqBkYRgpcaEwFAIEBUOhUralDF8CNoWzGR18yl/XpFl7lJH3fSQRj9qAoJ5/eYia+PsjsUruuYsdVdM4Pxe04FtBTvezdv/ie7sUXlPJxyaZBGP2orQQClCgKgwRcAmr1tB0J45mrf/Y3XLaU9pdffsa6EbBozJf63hZRJHvjFSUOqcMKVnxkIopLap8wWFSnPhRP72dwq3boDZ/hkJXtYsLQ4KCwsbGhomTpwolUrTQiASIhMQGHsqzASUxlhGRhR0Z44UfvyW/uQBd8X4joU3WafMDerzRARSmCT/nIXIcqC8oM7oqajtmrfs4vK7OhfdBObVn9hbtnFd6Tt/NR7eJfW6JGL6RofBgytXrlyxYoVKpRrjlaPhMwcBosIMWStRVHa1IkRbtHWDyEk7F9508Qur3BW1yCdxAiLL+gtKupuuPn/Ht87e+e2eGYukXk/x5ldr1v6y5N0XNRdOwTpO4nAp6mrbtm2PP/74008/7Xa7UzQEdZt9CBAVZsyawm8oc9rgpyvZ/Hft2aPe0nEXl9/dev0drprJvFqbyDQEudJXVN49c3HLiq81r/iaZe51Ab0RsZrSd9cjmfZ/gsCIFIGRUFASfutUIkONRlufz+dwOJxOp0AfbBwNvLNkDKLCFC9kUrtHTFlus+hP7s/fvcVwaCcj8vZJMzsX3NA5f7mtca63qBykJonmDQ4MG/6MtKnANa6+Z+bijkU3diy+pXvOde7KCRJR1Jw9VrDj/fydm4yRb4xYuygwktRlpM7SEQGiwnRcleFl4sI/AHKoYPs75l2bVe0X/KYC65R5XXOX9sxaYm2Y7RjfCMPZW1ThNxcFjPlBgzloyAsYzKjmyy/xlla7q+ocE6bYGmZbZy6yzLmua8611qkLEJBhgwHt6cP5uzYXffRmwbZ34J2Uuewg3+GFobOEQHYgQFSYmesoCHJ7t3nvh5Uv/6lk8yualjNBY75l9rXNt61u/uI/ti67s3Phjd1NS6xT5oPybJNn2abM7QHxzbu+ffGKizfcfeHW1Re+9EDH4hWO2kYJw+pPHSx5/+Wqvz5ZtvEF04FPFJY2SRpHRTJzwUjqdEeAqDDdV2g4+USRC/j0x/eWvfFszbOPV/79mfzt74LIoAPaGud0LrypbemXLi6/82LYpbiy4+ovWuZc56pp5OVKVdv5/G3vlG/4c+2ff1Gz7jcl7/1Nf+xTqdvO8Pxwww1xjooIgSxBgKgwwxdSFGHYSr0uRXe77tSh/J2bwGuVr/7f6hf/WPny0+VvPle28S9lvb8iUoHC9X+oeumpijfWQgdETf2xvcr2ZpnDxnnd6ITJhJBINKvV1NS0evXqVatWqdXqaOpTHUIACBAVAoRsSAwfkrodSkubpuU0gr+GY58aD+80HdxuOrAtnA5uNx7aYTiyS39in/bMEfXFM6gJVyAbCmSfLWy325ubm1tbW3lScrPh0h6lORAVjhLQoz2MIEDRQ4BF6nJIXXapx8n5feEYSLaofsPgeerUqY0bN27ZssXvT/S92cOMQqeyDAGiwixb0KyaDsuycrlc0bvJ5XKpVMow4W/XRMqVSmVfSVZNmyYzFggQFY4F6jRmFAiA7zQaDRx/c3s3ZGpqajiOQ1Oz2Rz5haPq6mr6dh0AoZQ4AkSFiWNIPaQEAaiBRUVF8+bNmzBhQnl5eUFBAdRAhmFAiCgECZ4/f37ZsmXTp083Go0pkSDrO6UJ9kOAqLAfGJRNJwRg/CIEbLPZzp49e/ToUXgAOzs7EQkB91VUVDgcDhxCSZw0aRIO00lwkiUjESAqzMhlywWhQXNQDFtaWjo6OkCISN3d3aIo1tXVQT28cOECoiJnzpwpKysrLS3NBUBojilFgKgwpfBS58MhAGsXDkEksF7/hHI0Qzkoz2AwzJgx4/rrr1+0aFFJSQkKTSYTKkd+shX8qNVqdbrLfgMLrfSXNqiW6IpSTiIQ26SJCmPDi2onEQEwmlarhUNwQEIkBJQXCASgD+7bt+/NN9/EHnW+9rWvgfXAbjCTfT4fJPF6vegEJcj3pfnz56+5tMGx2FdOGUJgGASICocBh06lFgGob3DzQembdfmWn58PggPZXezdoPrBHLZYLA0NDTKZLBgM4izoEsojmBS0iJI+Qd95551nn312/aWtra2t7xRlCIFhECAqHAYcOpVaBEBhdrsddAeHYP/kdrsFQUDMpLKyEtwHysMhKA+qInyFiJagIQxnHObl5YEokfoEBWke7rc5nc6+U5QhBIZBIOOocJi50KkMQwBxDzDg/v37P718Q3gExAeNDxGSqVOnlvduGo3m4MGDsJoRTYajsKqqqrCwEAETcF9ra2uGzZzETT8EiArTb01Iol4EwHpwBS5ZsqSpqam+vh464Msvv4ySHTt2QDGcMGEC7GWj0XjkyBHEkXtb0I4QiB8BosL4saOWKUXAarV+8MEHf/jDHz766KO33nrrhRdeOH78eCgUQvm77767du3a7du3P/nkk7CGQZoplYQ6zwUEiArTa5VJmj4E4B9E5AR+wJ6eHuzhQISLEL5ClEM3hJMxksCDKOxrRRlCID4E/n8AAAD///M2h/8AAAAGSURBVAMAAj1bVXKW9MIAAAAASUVORK5CYII=)"
      ],
      "metadata": {
        "id": "eb9uwLLsZg_X"
      }
    },
    {
      "cell_type": "code",
      "source": [
        "#Лабораторна робота. Метод половинного ділення, хорд\n",
        "\n",
        "\n",
        "def rec(a, b, eps):  # метод половинного ділення\n",
        "    while (abs(a - b) > eps):\n",
        "        if f(a) * f((a + b) / 2) < 0:\n",
        "            b = (a + b) / 2\n",
        "        else:\n",
        "            a = (a + b) / 2\n",
        "        x = (a + b) / 2\n",
        "\n",
        "    print('x= ', round(x, 5), '  -   Half division method')\n"
      ],
      "metadata": {
        "id": "BgjK94O9Cfxe"
      },
      "execution_count": 141,
      "outputs": []
    },
    {
      "cell_type": "code",
      "source": [
        "def hord(a, b, eps):  # метод хорд\n",
        "    derivative_f = nd.Derivative(f, n=2)\n",
        "    if f(a) * derivative_f(a) > 0:\n",
        "        x0 = a\n",
        "        xi = b\n",
        "    else:\n",
        "        x0 = b\n",
        "        xi = a\n",
        "    xi_1 = xi - (xi - x0) * f(xi) / (f(xi) - f(x0))\n",
        "    while (abs(xi_1 - xi) > eps):\n",
        "        xi = xi_1\n",
        "        xi_1 = xi - (xi - x0) * f(xi) / (f(xi) - f(x0))\n",
        "    print('x= ', round(xi_1, 5), '  -   Chord method')"
      ],
      "metadata": {
        "id": "Sz_KWVf7D2tL"
      },
      "execution_count": 142,
      "outputs": []
    },
    {
      "cell_type": "code",
      "source": [
        "if __name__ == \"__main__\":\n",
        "    a1, b1 = -2.9, -2.8\n",
        "    a2, b2 = 1.5, 1.6\n",
        "    eps = 0.001\n",
        "    print(\"Розв'язки на відрізку [-2.9, -2.8]\")\n",
        "    rec(a1, b1, eps)\n",
        "    hord(a1, b1, eps)\n",
        "    print(\"\\n Розв'язки на відрізку [1.5, 1.6]\")\n",
        "    rec(a2, b2, eps)\n",
        "    hord(a2, b2, eps)"
      ],
      "metadata": {
        "id": "upx7R4yoFZj_",
        "outputId": "2627f7b1-2921-4974-b286-1f61f3fada7c",
        "colab": {
          "base_uri": "https://localhost:8080/"
        }
      },
      "execution_count": 143,
      "outputs": [
        {
          "output_type": "stream",
          "name": "stdout",
          "text": [
            "Розв'язки на відрізку [-2.9, -2.8]\n",
            "x=  -2.82383   -   Half division method\n",
            "x=  -2.82385   -   Chord method\n",
            "\n",
            " Розв'язки на відрізку [1.5, 1.6]\n",
            "x=  1.5918   -   Half division method\n",
            "x=  1.59209   -   Chord method\n"
          ]
        }
      ]
    },
    {
      "cell_type": "code",
      "source": [
        "import sympy as sym\n",
        "\n",
        "x, a, b, c = sym.symbols('x, a, b, c')\n",
        "f = 3*x**4+4*x**3-12*x**2-5\n",
        "s = sym.solve(f, x)\n",
        "print(s)"
      ],
      "metadata": {
        "colab": {
          "base_uri": "https://localhost:8080/"
        },
        "id": "cYJ-q7uyvA2L",
        "outputId": "982f9722-d12d-45e5-f1fe-2e27bafbbad4"
      },
      "execution_count": 144,
      "outputs": [
        {
          "output_type": "stream",
          "name": "stdout",
          "text": [
            "[-1/3 - sqrt(-2/(9*(-43/27 + 5*sqrt(74)/27)**(1/3)) + 2*(-43/27 + 5*sqrt(74)/27)**(1/3) + 28/9)/2 + sqrt(-2*(-43/27 + 5*sqrt(74)/27)**(1/3) + 2/(9*(-43/27 + 5*sqrt(74)/27)**(1/3)) + 56/9 + 160/(27*sqrt(-2/(9*(-43/27 + 5*sqrt(74)/27)**(1/3)) + 2*(-43/27 + 5*sqrt(74)/27)**(1/3) + 28/9)))/2, -1/3 + sqrt(-2/(9*(-43/27 + 5*sqrt(74)/27)**(1/3)) + 2*(-43/27 + 5*sqrt(74)/27)**(1/3) + 28/9)/2 - sqrt(-160/(27*sqrt(-2/(9*(-43/27 + 5*sqrt(74)/27)**(1/3)) + 2*(-43/27 + 5*sqrt(74)/27)**(1/3) + 28/9)) - 2*(-43/27 + 5*sqrt(74)/27)**(1/3) + 2/(9*(-43/27 + 5*sqrt(74)/27)**(1/3)) + 56/9)/2, -1/3 + sqrt(-2/(9*(-43/27 + 5*sqrt(74)/27)**(1/3)) + 2*(-43/27 + 5*sqrt(74)/27)**(1/3) + 28/9)/2 + sqrt(-160/(27*sqrt(-2/(9*(-43/27 + 5*sqrt(74)/27)**(1/3)) + 2*(-43/27 + 5*sqrt(74)/27)**(1/3) + 28/9)) - 2*(-43/27 + 5*sqrt(74)/27)**(1/3) + 2/(9*(-43/27 + 5*sqrt(74)/27)**(1/3)) + 56/9)/2, -sqrt(-2*(-43/27 + 5*sqrt(74)/27)**(1/3) + 2/(9*(-43/27 + 5*sqrt(74)/27)**(1/3)) + 56/9 + 160/(27*sqrt(-2/(9*(-43/27 + 5*sqrt(74)/27)**(1/3)) + 2*(-43/27 + 5*sqrt(74)/27)**(1/3) + 28/9)))/2 - 1/3 - sqrt(-2/(9*(-43/27 + 5*sqrt(74)/27)**(1/3)) + 2*(-43/27 + 5*sqrt(74)/27)**(1/3) + 28/9)/2]\n"
          ]
        }
      ]
    },
    {
      "cell_type": "code",
      "source": [
        "#Лабораторна робота 3. Метод Ньютона (дотичних). Комбінований метод\n",
        "\n",
        "def nuton(a, b, eps, f):\n",
        "    df2 = nd.Derivative(f, n=2)(b)  # Отримуємо значення похідної другого порядку в точці b\n",
        "    if f(b) * df2 > 0:\n",
        "        xi = b\n",
        "    else:\n",
        "        xi = a\n",
        "    df = nd.Derivative(f, n=2)(xi)  # Отримуємо значення похідної першого порядку в точці xi\n",
        "    xi_1 = xi - f(xi) / df\n",
        "    while abs(xi_1 - xi) > eps:  # перевіряємо точність\n",
        "        xi = xi_1\n",
        "        xi_1 = xi - f(xi) / df\n",
        "    print('Метод Ньютона, x = ', xi_1.round(4))\n"
      ],
      "metadata": {
        "id": "uz6OF8g2C-vY"
      },
      "execution_count": 145,
      "outputs": []
    },
    {
      "cell_type": "code",
      "source": [
        "def komb(a, b, eps, f):\n",
        "    df2 = nd.Derivative(f, n=2)(a)\n",
        "    if f(a) * df2 > 0:\n",
        "        a0,  b0 = a,b\n",
        "    else:\n",
        "         a0,  b0 = a,b\n",
        "    ai = a0\n",
        "    bi = b0\n",
        "    while np.abs(ai - bi) > eps:\n",
        "        ai_1 = ai - f(ai) * (bi - ai) / (f(bi) - f(ai))\n",
        "        bi_1 = bi - f(bi) / nd.Derivative(f, n=2)(bi)\n",
        "        ai = ai_1\n",
        "        bi = bi_1\n",
        "    x = (ai_1 + bi_1) / 2\n",
        "    print('Комбінований метод, x = ', x.round(4))\n"
      ],
      "metadata": {
        "id": "M2T4FA4ifyy_"
      },
      "execution_count": 161,
      "outputs": []
    },
    {
      "cell_type": "code",
      "source": [
        "if __name__ == \"__main__\":\n",
        "    a1, b1 = -2.9, -2.8\n",
        "    a2, b2 = 1.5, 1.6\n",
        "    eps = 0.0001\n",
        "    print(\"Розв'язання на відрізку [-2.9, -2.8]\")\n",
        "    nuton(a1, b1, eps, f)\n",
        "    komb(a1, b1, eps, f)\n",
        "    print(\"\\n Розв'язання на відрізку [1.5, 1.6]\")\n",
        "    nuton(a2, b2, eps, f)\n",
        "    komb(a2, b2, eps, f)"
      ],
      "metadata": {
        "colab": {
          "base_uri": "https://localhost:8080/",
          "height": 373
        },
        "id": "zrxTpvysf0zN",
        "outputId": "b4006164-af15-4911-9fc2-c0479f56439f"
      },
      "execution_count": 162,
      "outputs": [
        {
          "output_type": "stream",
          "name": "stdout",
          "text": [
            "Розв'язання на відрізку [-2.9, -2.8]\n"
          ]
        },
        {
          "output_type": "error",
          "ename": "TypeError",
          "evalue": "'Add' object is not callable",
          "traceback": [
            "\u001b[0;31m---------------------------------------------------------------------------\u001b[0m",
            "\u001b[0;31mTypeError\u001b[0m                                 Traceback (most recent call last)",
            "\u001b[0;32m/tmp/ipython-input-844896231.py\u001b[0m in \u001b[0;36m<cell line: 0>\u001b[0;34m()\u001b[0m\n\u001b[1;32m      4\u001b[0m     \u001b[0meps\u001b[0m \u001b[0;34m=\u001b[0m \u001b[0;36m0.0001\u001b[0m\u001b[0;34m\u001b[0m\u001b[0;34m\u001b[0m\u001b[0m\n\u001b[1;32m      5\u001b[0m     \u001b[0mprint\u001b[0m\u001b[0;34m(\u001b[0m\u001b[0;34m\"Розв'язання на відрізку [-2.9, -2.8]\"\u001b[0m\u001b[0;34m)\u001b[0m\u001b[0;34m\u001b[0m\u001b[0;34m\u001b[0m\u001b[0m\n\u001b[0;32m----> 6\u001b[0;31m     \u001b[0mnuton\u001b[0m\u001b[0;34m(\u001b[0m\u001b[0ma1\u001b[0m\u001b[0;34m,\u001b[0m \u001b[0mb1\u001b[0m\u001b[0;34m,\u001b[0m \u001b[0meps\u001b[0m\u001b[0;34m,\u001b[0m \u001b[0mf\u001b[0m\u001b[0;34m)\u001b[0m\u001b[0;34m\u001b[0m\u001b[0;34m\u001b[0m\u001b[0m\n\u001b[0m\u001b[1;32m      7\u001b[0m     \u001b[0mkomb\u001b[0m\u001b[0;34m(\u001b[0m\u001b[0ma1\u001b[0m\u001b[0;34m,\u001b[0m \u001b[0mb1\u001b[0m\u001b[0;34m,\u001b[0m \u001b[0meps\u001b[0m\u001b[0;34m,\u001b[0m \u001b[0mf\u001b[0m\u001b[0;34m)\u001b[0m\u001b[0;34m\u001b[0m\u001b[0;34m\u001b[0m\u001b[0m\n\u001b[1;32m      8\u001b[0m     \u001b[0mprint\u001b[0m\u001b[0;34m(\u001b[0m\u001b[0;34m\"\\n Розв'язання на відрізку [1.5, 1.6]\"\u001b[0m\u001b[0;34m)\u001b[0m\u001b[0;34m\u001b[0m\u001b[0;34m\u001b[0m\u001b[0m\n",
            "\u001b[0;32m/tmp/ipython-input-184670194.py\u001b[0m in \u001b[0;36mnuton\u001b[0;34m(a, b, eps, f)\u001b[0m\n\u001b[1;32m      2\u001b[0m \u001b[0;34m\u001b[0m\u001b[0m\n\u001b[1;32m      3\u001b[0m \u001b[0;32mdef\u001b[0m \u001b[0mnuton\u001b[0m\u001b[0;34m(\u001b[0m\u001b[0ma\u001b[0m\u001b[0;34m,\u001b[0m \u001b[0mb\u001b[0m\u001b[0;34m,\u001b[0m \u001b[0meps\u001b[0m\u001b[0;34m,\u001b[0m \u001b[0mf\u001b[0m\u001b[0;34m)\u001b[0m\u001b[0;34m:\u001b[0m\u001b[0;34m\u001b[0m\u001b[0;34m\u001b[0m\u001b[0m\n\u001b[0;32m----> 4\u001b[0;31m     \u001b[0mdf2\u001b[0m \u001b[0;34m=\u001b[0m \u001b[0mnd\u001b[0m\u001b[0;34m.\u001b[0m\u001b[0mDerivative\u001b[0m\u001b[0;34m(\u001b[0m\u001b[0mf\u001b[0m\u001b[0;34m,\u001b[0m \u001b[0mn\u001b[0m\u001b[0;34m=\u001b[0m\u001b[0;36m2\u001b[0m\u001b[0;34m)\u001b[0m\u001b[0;34m(\u001b[0m\u001b[0mb\u001b[0m\u001b[0;34m)\u001b[0m  \u001b[0;31m# Отримуємо значення похідної другого порядку в точці b\u001b[0m\u001b[0;34m\u001b[0m\u001b[0;34m\u001b[0m\u001b[0m\n\u001b[0m\u001b[1;32m      5\u001b[0m     \u001b[0;32mif\u001b[0m \u001b[0mf\u001b[0m\u001b[0;34m(\u001b[0m\u001b[0mb\u001b[0m\u001b[0;34m)\u001b[0m \u001b[0;34m*\u001b[0m \u001b[0mdf2\u001b[0m \u001b[0;34m>\u001b[0m \u001b[0;36m0\u001b[0m\u001b[0;34m:\u001b[0m\u001b[0;34m\u001b[0m\u001b[0;34m\u001b[0m\u001b[0m\n\u001b[1;32m      6\u001b[0m         \u001b[0mxi\u001b[0m \u001b[0;34m=\u001b[0m \u001b[0mb\u001b[0m\u001b[0;34m\u001b[0m\u001b[0;34m\u001b[0m\u001b[0m\n",
            "\u001b[0;32m/usr/local/lib/python3.12/dist-packages/numdifftools/core.py\u001b[0m in \u001b[0;36m__call__\u001b[0;34m(self, x, *args, **kwds)\u001b[0m\n\u001b[1;32m    286\u001b[0m         \u001b[0mx_i\u001b[0m \u001b[0;34m=\u001b[0m \u001b[0mnp\u001b[0m\u001b[0;34m.\u001b[0m\u001b[0masarray\u001b[0m\u001b[0;34m(\u001b[0m\u001b[0mx\u001b[0m\u001b[0;34m)\u001b[0m\u001b[0;34m\u001b[0m\u001b[0;34m\u001b[0m\u001b[0m\n\u001b[1;32m    287\u001b[0m         \u001b[0;32mwith\u001b[0m \u001b[0mnp\u001b[0m\u001b[0;34m.\u001b[0m\u001b[0merrstate\u001b[0m\u001b[0;34m(\u001b[0m\u001b[0mdivide\u001b[0m\u001b[0;34m=\u001b[0m\u001b[0;34m'ignore'\u001b[0m\u001b[0;34m,\u001b[0m \u001b[0minvalid\u001b[0m\u001b[0;34m=\u001b[0m\u001b[0;34m'ignore'\u001b[0m\u001b[0;34m)\u001b[0m\u001b[0;34m:\u001b[0m\u001b[0;34m\u001b[0m\u001b[0;34m\u001b[0m\u001b[0m\n\u001b[0;32m--> 288\u001b[0;31m             \u001b[0mresults\u001b[0m\u001b[0;34m,\u001b[0m \u001b[0mf_xi\u001b[0m \u001b[0;34m=\u001b[0m \u001b[0mself\u001b[0m\u001b[0;34m.\u001b[0m\u001b[0m_derivative\u001b[0m\u001b[0;34m(\u001b[0m\u001b[0mx_i\u001b[0m\u001b[0;34m,\u001b[0m \u001b[0margs\u001b[0m\u001b[0;34m,\u001b[0m \u001b[0mkwds\u001b[0m\u001b[0;34m)\u001b[0m\u001b[0;34m\u001b[0m\u001b[0;34m\u001b[0m\u001b[0m\n\u001b[0m\u001b[1;32m    289\u001b[0m             \u001b[0mderivative\u001b[0m\u001b[0;34m,\u001b[0m \u001b[0minfo\u001b[0m \u001b[0;34m=\u001b[0m \u001b[0mself\u001b[0m\u001b[0;34m.\u001b[0m\u001b[0m_extrapolate\u001b[0m\u001b[0;34m(\u001b[0m\u001b[0;34m*\u001b[0m\u001b[0mresults\u001b[0m\u001b[0;34m)\u001b[0m\u001b[0;34m\u001b[0m\u001b[0;34m\u001b[0m\u001b[0m\n\u001b[1;32m    290\u001b[0m         \u001b[0;32mif\u001b[0m \u001b[0mself\u001b[0m\u001b[0;34m.\u001b[0m\u001b[0mfull_output\u001b[0m\u001b[0;34m:\u001b[0m\u001b[0;34m\u001b[0m\u001b[0;34m\u001b[0m\u001b[0m\n",
            "\u001b[0;32m/usr/local/lib/python3.12/dist-packages/numdifftools/core.py\u001b[0m in \u001b[0;36m_derivative_nonzero_order\u001b[0;34m(self, x_i, args, kwds)\u001b[0m\n\u001b[1;32m    235\u001b[0m         \u001b[0mdiff\u001b[0m\u001b[0;34m,\u001b[0m \u001b[0mf\u001b[0m \u001b[0;34m=\u001b[0m \u001b[0mself\u001b[0m\u001b[0;34m.\u001b[0m\u001b[0m_get_functions\u001b[0m\u001b[0;34m(\u001b[0m\u001b[0margs\u001b[0m\u001b[0;34m,\u001b[0m \u001b[0mkwds\u001b[0m\u001b[0;34m)\u001b[0m\u001b[0;34m\u001b[0m\u001b[0;34m\u001b[0m\u001b[0m\n\u001b[1;32m    236\u001b[0m         \u001b[0msteps\u001b[0m\u001b[0;34m,\u001b[0m \u001b[0mstep_ratio\u001b[0m \u001b[0;34m=\u001b[0m \u001b[0mself\u001b[0m\u001b[0;34m.\u001b[0m\u001b[0m_get_steps\u001b[0m\u001b[0;34m(\u001b[0m\u001b[0mx_i\u001b[0m\u001b[0;34m)\u001b[0m\u001b[0;34m\u001b[0m\u001b[0;34m\u001b[0m\u001b[0m\n\u001b[0;32m--> 237\u001b[0;31m         \u001b[0mfxi\u001b[0m \u001b[0;34m=\u001b[0m \u001b[0mself\u001b[0m\u001b[0;34m.\u001b[0m\u001b[0m_eval_first\u001b[0m\u001b[0;34m(\u001b[0m\u001b[0mf\u001b[0m\u001b[0;34m,\u001b[0m \u001b[0mx_i\u001b[0m\u001b[0;34m)\u001b[0m\u001b[0;34m\u001b[0m\u001b[0;34m\u001b[0m\u001b[0m\n\u001b[0m\u001b[1;32m    238\u001b[0m         \u001b[0mresults\u001b[0m \u001b[0;34m=\u001b[0m \u001b[0;34m[\u001b[0m\u001b[0mdiff\u001b[0m\u001b[0;34m(\u001b[0m\u001b[0mf\u001b[0m\u001b[0;34m,\u001b[0m \u001b[0mfxi\u001b[0m\u001b[0;34m,\u001b[0m \u001b[0mx_i\u001b[0m\u001b[0;34m,\u001b[0m \u001b[0mh\u001b[0m\u001b[0;34m)\u001b[0m \u001b[0;32mfor\u001b[0m \u001b[0mh\u001b[0m \u001b[0;32min\u001b[0m \u001b[0msteps\u001b[0m\u001b[0;34m]\u001b[0m\u001b[0;34m\u001b[0m\u001b[0;34m\u001b[0m\u001b[0m\n\u001b[1;32m    239\u001b[0m \u001b[0;34m\u001b[0m\u001b[0m\n",
            "\u001b[0;32m/usr/local/lib/python3.12/dist-packages/numdifftools/core.py\u001b[0m in \u001b[0;36m_eval_first\u001b[0;34m(self, f, x)\u001b[0m\n\u001b[1;32m    280\u001b[0m             \u001b[0;32mreturn\u001b[0m \u001b[0mf_x\u001b[0m\u001b[0;34m\u001b[0m\u001b[0;34m\u001b[0m\u001b[0m\n\u001b[1;32m    281\u001b[0m         \u001b[0;32mif\u001b[0m \u001b[0mself\u001b[0m\u001b[0;34m.\u001b[0m\u001b[0mfd_rule\u001b[0m\u001b[0;34m.\u001b[0m\u001b[0meval_first_condition\u001b[0m \u001b[0;32mor\u001b[0m \u001b[0mself\u001b[0m\u001b[0;34m.\u001b[0m\u001b[0mfull_output\u001b[0m\u001b[0;34m:\u001b[0m\u001b[0;34m\u001b[0m\u001b[0;34m\u001b[0m\u001b[0m\n\u001b[0;32m--> 282\u001b[0;31m             \u001b[0;32mreturn\u001b[0m \u001b[0mf\u001b[0m\u001b[0;34m(\u001b[0m\u001b[0mx\u001b[0m\u001b[0;34m)\u001b[0m\u001b[0;34m\u001b[0m\u001b[0;34m\u001b[0m\u001b[0m\n\u001b[0m\u001b[1;32m    283\u001b[0m         \u001b[0;32mreturn\u001b[0m \u001b[0;36m0.0\u001b[0m\u001b[0;34m\u001b[0m\u001b[0;34m\u001b[0m\u001b[0m\n\u001b[1;32m    284\u001b[0m \u001b[0;34m\u001b[0m\u001b[0m\n",
            "\u001b[0;32m/usr/local/lib/python3.12/dist-packages/numdifftools/core.py\u001b[0m in \u001b[0;36mexport_fun\u001b[0;34m(x)\u001b[0m\n\u001b[1;32m    255\u001b[0m \u001b[0;34m\u001b[0m\u001b[0m\n\u001b[1;32m    256\u001b[0m         \u001b[0;32mdef\u001b[0m \u001b[0mexport_fun\u001b[0m\u001b[0;34m(\u001b[0m\u001b[0mx\u001b[0m\u001b[0;34m)\u001b[0m\u001b[0;34m:\u001b[0m\u001b[0;34m\u001b[0m\u001b[0;34m\u001b[0m\u001b[0m\n\u001b[0;32m--> 257\u001b[0;31m             \u001b[0;32mreturn\u001b[0m \u001b[0mfun\u001b[0m\u001b[0;34m(\u001b[0m\u001b[0mx\u001b[0m\u001b[0;34m,\u001b[0m \u001b[0;34m*\u001b[0m\u001b[0margs\u001b[0m\u001b[0;34m,\u001b[0m \u001b[0;34m**\u001b[0m\u001b[0mkwds\u001b[0m\u001b[0;34m)\u001b[0m\u001b[0;34m\u001b[0m\u001b[0;34m\u001b[0m\u001b[0m\n\u001b[0m\u001b[1;32m    258\u001b[0m \u001b[0;34m\u001b[0m\u001b[0m\n\u001b[1;32m    259\u001b[0m         \u001b[0;32mreturn\u001b[0m \u001b[0mself\u001b[0m\u001b[0;34m.\u001b[0m\u001b[0mfd_rule\u001b[0m\u001b[0;34m.\u001b[0m\u001b[0mdiff\u001b[0m\u001b[0;34m,\u001b[0m \u001b[0mexport_fun\u001b[0m\u001b[0;34m\u001b[0m\u001b[0;34m\u001b[0m\u001b[0m\n",
            "\u001b[0;31mTypeError\u001b[0m: 'Add' object is not callable"
          ]
        }
      ]
    },
    {
      "cell_type": "markdown",
      "source": [
        "Завдання 3. Лабораторна робота 3\n",
        "\n",
        "Тема: Відокремлення дійсних коренів рівнянь та їх уточнення методом простої ітерації."
      ],
      "metadata": {
        "id": "370aMnuwjPeK"
      }
    },
    {
      "cell_type": "code",
      "source": [
        "!pip install numdifftools"
      ],
      "metadata": {
        "colab": {
          "base_uri": "https://localhost:8080/"
        },
        "id": "Rc37HrNui3h5",
        "outputId": "623edbce-1882-4eb8-a1ab-ea84281ed045"
      },
      "execution_count": 164,
      "outputs": [
        {
          "output_type": "stream",
          "name": "stdout",
          "text": [
            "Requirement already satisfied: numdifftools in /usr/local/lib/python3.12/dist-packages (0.9.41)\n",
            "Requirement already satisfied: numpy>=1.9 in /usr/local/lib/python3.12/dist-packages (from numdifftools) (2.0.2)\n",
            "Requirement already satisfied: scipy>=0.8 in /usr/local/lib/python3.12/dist-packages (from numdifftools) (1.16.1)\n"
          ]
        }
      ]
    },
    {
      "cell_type": "code",
      "source": [
        "import numdifftools as nd"
      ],
      "metadata": {
        "id": "mCRRGRFlizK1"
      },
      "execution_count": 163,
      "outputs": []
    },
    {
      "cell_type": "markdown",
      "source": [
        "Визначаємо чи корінь належить відрізку [1,1.5]"
      ],
      "metadata": {
        "id": "KIZcOAasqZcp"
      }
    },
    {
      "cell_type": "markdown",
      "source": [
        "![image.png](data:image/png;base64,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)"
      ],
      "metadata": {
        "id": "tCCXL78mq0JB"
      }
    },
    {
      "cell_type": "code",
      "source": [
        "def f(x: float):\n",
        "    return x**3-3*x**2+9*x-10\n",
        "\n",
        "def fprime(x: float):\n",
        "    return nd.Derivative(f, n=1)\n",
        "\n",
        "def phi(x: float):\n",
        "    # c = -0.1 (забезпечує |phi'(x)|<1 на [1,1.5])\n",
        "    return x - 0.1 * f(x)\n",
        "\n",
        "def iterate_fixed_point(x0: float, iters: int = 5):\n",
        "    xs = [x0]\n",
        "    x = x0\n",
        "    for _ in range(iters):\n",
        "        x = phi(x)\n",
        "        xs.append(x)\n",
        "    return xs\n",
        "\n",
        "def error_bound(x_last: float) -> float:\n",
        "    # μ = min_{x∈[1,1.5]} |f'(x)| = 2\n",
        "    mu = 2.0\n",
        "    return abs(f(x_last)) / mu\n",
        "\n"
      ],
      "metadata": {
        "id": "gt8HxS1AiM0Y"
      },
      "execution_count": 165,
      "outputs": []
    },
    {
      "cell_type": "code",
      "source": [
        "def main():\n",
        "    x0 = -1.0\n",
        "    iters = 5\n",
        "    xs = iterate_fixed_point(x0, iters)\n",
        "    print(\"Fixed-point iteration for f(x) = x^3 - x + 7 with phi(x) = x - 0.1*f(x)\")\n",
        "    print(f\"Interval: [-3, -1], start x0 = {x0}\")\n",
        "    for i, xi in enumerate(xs):\n",
        "        if i == 0:\n",
        "            print(f\"x_{i} = {xi:.10f}\")\n",
        "        else:\n",
        "            print(f\"x_{i} = phi(x_{i-1}) = {xi:.10f}\")\n",
        "    bound = error_bound(xs[-1])\n",
        "    print(\"\\nError bound after 5 iterations:  |ξ - x5| ≤ |f(x5)| / μ\")\n",
        "    print(f\"f(x5) = {f(xs[-1]):.10f},  μ = 2  ⇒  |ξ - x5| ≤ {bound:.10f}\")\n",
        "    return xs[-1], bound\n",
        "\n",
        "if __name__ == \"__main__\":\n",
        "    root_approx, bound = main()"
      ],
      "metadata": {
        "colab": {
          "base_uri": "https://localhost:8080/"
        },
        "id": "NcUIwAOAimLR",
        "outputId": "275217fb-7176-4fdb-a35e-8dad429a132d"
      },
      "execution_count": 166,
      "outputs": [
        {
          "output_type": "stream",
          "name": "stdout",
          "text": [
            "Fixed-point iteration for f(x) = x^3 - x + 7 with phi(x) = x - 0.1*f(x)\n",
            "Interval: [-3, -1], start x0 = -1.0\n",
            "x_0 = -1.0000000000\n",
            "x_1 = phi(x_0) = 1.3000000000\n",
            "x_2 = phi(x_1) = 1.4173000000\n",
            "x_3 = phi(x_2) = 1.4596531674\n",
            "x_4 = phi(x_3) = 1.4741496673\n",
            "x_5 = phi(x_4) = 1.4790001333\n",
            "\n",
            "Error bound after 5 iterations:  |ξ - x5| ≤ |f(x5)| / μ\n",
            "f(x5) = -0.0160968692,  μ = 2  ⇒  |ξ - x5| ≤ 0.0080484346\n"
          ]
        }
      ]
    },
    {
      "cell_type": "markdown",
      "source": [
        "Спрощений варіант коду\n"
      ],
      "metadata": {
        "id": "_gkwLHTNkDwS"
      }
    },
    {
      "cell_type": "code",
      "source": [
        "# Рівняння: f(x) = x**3-3*x**2+9*x-10 = 0\n",
        "# Ітераційна функція: φ(x) = x - 0.1 * f(x)  (c = -0.1)\n",
        "# Початкове наближення: x0 = -1\n",
        "# Кількість ітерацій: 5\n",
        "# Оцінка похибки: |ξ - x5| ≤ |f(x5)| / μ, де μ = min_{[-3,-1]} |f'(x)| = 2\n",
        "\n",
        "def f(x):\n",
        "    return x**3-3*x**2+9*x-10\n",
        "\n",
        "def phi(x):\n",
        "    return x - 0.1 * f(x)   # c = -0.1\n",
        "\n",
        "def fixed_point(x0=-1.0, iters=5):\n",
        "    xs = [x0]\n",
        "    for _ in range(iters):\n",
        "        xs.append(phi(xs[-1]))\n",
        "    return xs\n",
        "\n",
        "# Запуск і вивід результатів\n",
        "xs = fixed_point(-1.0, 5)\n",
        "\n",
        "for i, xi in enumerate(xs):\n",
        "    print(f\"x_{i} = {xi:.10f}\")\n",
        "\n",
        "# Похибка методу простої ітерації після 5-ї ітерації\n",
        "mu = 2.0                      # μ = min_{[-3,-1]} |3x^2 - 1| = 2\n",
        "err_bound = abs(f(xs[-1]))/mu\n",
        "print(f\"\\nОцінка похибки: |ξ - x5| ≤ {err_bound:.10f}\")"
      ],
      "metadata": {
        "colab": {
          "base_uri": "https://localhost:8080/"
        },
        "id": "womZO91vj9vN",
        "outputId": "7e85cc4b-7849-45ce-efa8-04cbf95d6c50"
      },
      "execution_count": 130,
      "outputs": [
        {
          "output_type": "stream",
          "name": "stdout",
          "text": [
            "x_0 = -1.0000000000\n",
            "x_1 = 1.3000000000\n",
            "x_2 = 1.4173000000\n",
            "x_3 = 1.4596531674\n",
            "x_4 = 1.4741496673\n",
            "x_5 = 1.4790001333\n",
            "\n",
            "Оцінка похибки: |ξ - x5| ≤ 0.0080484346\n"
          ]
        }
      ]
    }
  ]
}