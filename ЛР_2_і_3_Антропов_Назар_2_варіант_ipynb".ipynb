{
  "nbformat": 4,
  "nbformat_minor": 0,
  "metadata": {
    "colab": {
      "provenance": [],
      "include_colab_link": true
    },
    "kernelspec": {
      "name": "python3",
      "display_name": "Python 3"
    },
    "language_info": {
      "name": "python"
    }
  },
  "cells": [
    {
      "cell_type": "markdown",
      "metadata": {
        "id": "view-in-github",
        "colab_type": "text"
      },
      "source": [
        "<a href=\"https://colab.research.google.com/github/HeyWinTomsy/NM/blob/main/%D0%9B%D0%A0_2_%D1%96_3_%D0%90%D0%BD%D1%82%D1%80%D0%BE%D0%BF%D0%BE%D0%B2_%D0%9D%D0%B0%D0%B7%D0%B0%D1%80_2_%D0%B2%D0%B0%D1%80%D1%96%D0%B0%D0%BD%D1%82_ipynb%22.ipynb\" target=\"_parent\"><img src=\"https://colab.research.google.com/assets/colab-badge.svg\" alt=\"Open In Colab\"/></a>"
      ]
    },
    {
      "cell_type": "markdown",
      "source": [
        "1. Метод ділення навпіл."
      ],
      "metadata": {
        "id": "VgrW9zRY0dVt"
      }
    },
    {
      "cell_type": "code",
      "execution_count": null,
      "metadata": {
        "colab": {
          "base_uri": "https://localhost:8080/"
        },
        "id": "iOTNXySVyeHy",
        "outputId": "5174695b-1ff2-41fa-a5c1-3de136fa53d3"
      },
      "outputs": [
        {
          "output_type": "stream",
          "name": "stdout",
          "text": [
            "Результати обчислень\n",
            "\n",
            "          a      F(a)         c      F(c)       b      F(b)\n",
            "0 -3.000000  0.977954 -2.000000  1.135204 -1.0000 -0.454649\n",
            "1 -2.000000  1.135204 -1.500000 -0.123480 -1.0000 -0.454649\n",
            "2 -2.000000  1.135204 -1.750000  0.405593 -1.5000 -0.123480\n",
            "3 -1.750000  0.405593 -1.625000  0.109040 -1.5000 -0.123480\n",
            "4 -1.625000  0.109040 -1.562500 -0.015587 -1.5000 -0.123480\n",
            "5 -1.625000  0.109040 -1.593750  0.044659 -1.5625 -0.015587\n",
            "6 -1.593750  0.044659 -1.578125  0.014015 -1.5625 -0.015587\n",
            "7 -1.578125  0.014015 -1.570312 -0.000917 -1.5625 -0.015587\n",
            "\n",
            "В точці с =  -1.5703125 , f(c) =  -0.0009171268569415665\n"
          ]
        }
      ],
      "source": [
        "import numpy as np\n",
        "import pandas as pd\n",
        "\n",
        "# Визначаємо функцію\n",
        "def f (x):\n",
        "    y = np.cos(x)*np.sin(x)*(x**2+x+1)\n",
        "    return y\n",
        "# Визначаємо границі відрізку\n",
        "a = -3\n",
        "b = -1\n",
        "# Визначаємо точність розв'язку\n",
        "h = 0.001\n",
        "# Поділяємо відрізок навпіл\n",
        "c = (a+b)/2\n",
        "# Зберігаємо результати обчислень\n",
        "data_A = [a]\n",
        "data_B = [b]\n",
        "data_C = [c]\n",
        "data_F_A = [f(a)]\n",
        "data_F_B = [f(b)]\n",
        "data_F_C = [f(c)]\n",
        "# Перевіряємо досягнення точності\n",
        "while abs(f(c)) > h:\n",
        "    # Звужуємо відрізок\n",
        "    if np.sign(f(c)) == np.sign(f(a)):\n",
        "        a = c\n",
        "    else:\n",
        "        b = c\n",
        "    # Поділяємо відрізок навпіл\n",
        "    c = (a+b)/2\n",
        "    # Зберігаємо результати обчислень\n",
        "    data_A.append(a)\n",
        "    data_B.append(b)\n",
        "    data_C.append(c)\n",
        "    data_F_A.append(f(a))\n",
        "    data_F_B.append(f(b))\n",
        "    data_F_C.append(f(c))\n",
        "# Відображаємо результати обчислень\n",
        "print('Результати обчислень')\n",
        "print()\n",
        "data = pd.DataFrame({'a': data_A,\n",
        "                     'F(a)': data_F_A,\n",
        "                     'c': data_C,\n",
        "                     'F(c)': data_F_C,\n",
        "                     'b': data_B,\n",
        "                     'F(b)': data_F_B})\n",
        "print(data)\n",
        "# Відображаємо наближений корінь рівняння\n",
        "print()\n",
        "print('В точці с = ', c, ', f(c) = ', f(c))"
      ]
    },
    {
      "cell_type": "markdown",
      "source": [
        "2. Метод ділення навпіл"
      ],
      "metadata": {
        "id": "5hYa7ucn0PEN"
      }
    },
    {
      "cell_type": "code",
      "source": [
        "import numpy as np\n",
        "import scipy.optimize as sp\n",
        "\n",
        "def f(x):\n",
        "    y = np.cos(x)*np.sin(x)*(x**2+x+1)\n",
        "    return y\n",
        "\n",
        "a, b = -3, -1\n",
        "tol = 1.e-3\n",
        "\n",
        "x = sp.bisect(f, a, b,(),tol) #функція для метода\n",
        "\n",
        "print('The approximate solution x is:', x)\n",
        "print('And the value f(x) is:', f(x))"
      ],
      "metadata": {
        "colab": {
          "base_uri": "https://localhost:8080/"
        },
        "id": "ML3KEw5q0H1e",
        "outputId": "99314d3a-c13e-420e-e9ae-6c063defd529"
      },
      "execution_count": null,
      "outputs": [
        {
          "output_type": "stream",
          "name": "stdout",
          "text": [
            "The approximate solution x is: -1.5712890625\n",
            "And the value f(x) is: 0.0009350448126615916\n"
          ]
        }
      ]
    },
    {
      "cell_type": "markdown",
      "source": [
        "3. Метод хорд"
      ],
      "metadata": {
        "id": "sYf0IvR41ufd"
      }
    },
    {
      "cell_type": "code",
      "source": [
        "import numpy as np\n",
        "import pandas as pd\n",
        "# Визначаємо функцію\n",
        "def f(x):\n",
        "    y = np.cos(x)*np.sin(x)*(x**2+x+1)\n",
        "    return y\n",
        "# Визначаємо межі відрізку\n",
        "a = -3\n",
        "b = -1\n",
        "# Визначаємо точність розв'язку\n",
        "h = 0.001\n",
        "# Точка, де хорда перетинає вісь 0x\n",
        "c = (f(a)*b-a*f(b))/(f(a)-f(b))\n",
        "\n",
        "# Зберігаємо результати обчислень\n",
        "data_A = [a]\n",
        "data_B = [b]\n",
        "data_C = [c]\n",
        "data_F_A = [f(a)]\n",
        "data_F_B = [f(b)]\n",
        "data_F_C = [f(c)]\n",
        "# Перевіряємо досягнення точності\n",
        "while abs(f(c)) > h:\n",
        "    # Звужуємо відрізок\n",
        "    if np.sign(f(c)) == np.sign(f(a)):\n",
        "        a = c\n",
        "    else:\n",
        "        b = c\n",
        "    # Точка, де хорда перетинає вісь 0x\n",
        "    c = (f(a)*b-a*f(b))/(f(a)-f(b))\n",
        "    # Зберігаємо результати обчислень\n",
        "    data_A.append(a)\n",
        "    data_B.append(b)\n",
        "    data_C.append(c)\n",
        "    data_F_A.append(f(a))\n",
        "    data_F_B.append(f(b))\n",
        "    data_F_C.append(f(c))\n",
        "# Відображаємо результати обчислень\n",
        "print('Результати обчислень')\n",
        "print()\n",
        "data = pd.DataFrame({'a': data_A, 'F(a)': data_F_A,\n",
        "                     'c': data_C, 'F(c)': data_F_C,\n",
        "                     'b': data_B, 'F(b)': data_F_B})\n",
        "print(data)\n",
        "# Відображаємо наближений корінь рівняння\n",
        "print()\n",
        "print('В точці с = ', c, ', f(c) = ', f(c))"
      ],
      "metadata": {
        "colab": {
          "base_uri": "https://localhost:8080/"
        },
        "id": "3p6i5xHK1y3l",
        "outputId": "fbaa0d08-b4a1-4135-af0c-fd284e71ed10"
      },
      "execution_count": null,
      "outputs": [
        {
          "output_type": "stream",
          "name": "stdout",
          "text": [
            "Результати обчислень\n",
            "\n",
            "          a      F(a)         c      F(c)         b      F(b)\n",
            "0 -3.000000  0.977954 -1.634717  0.129889 -1.000000 -0.454649\n",
            "1 -1.634717  0.129889 -1.493678 -0.133455 -1.000000 -0.454649\n",
            "2 -1.634717  0.129889 -1.565152 -0.010636 -1.493678 -0.133455\n",
            "3 -1.634717  0.129889 -1.570418 -0.000718 -1.565152 -0.010636\n",
            "\n",
            "В точці с =  -1.5704175737258015 , f(c) =  -0.0007180376446871882\n"
          ]
        }
      ]
    },
    {
      "cell_type": "markdown",
      "source": [
        "4. Метод Ньютона (дотичних)"
      ],
      "metadata": {
        "id": "40blPBSK2Cdm"
      }
    },
    {
      "cell_type": "code",
      "source": [
        "import numpy as np\n",
        "import pandas as pd\n",
        "# Визначаємо функцію\n",
        "def f(x):\n",
        "    y = np.cos(x)*np.sin(x)*(x**2+x+1)\n",
        "    return y\n",
        "# Визначаємо першу похідну\n",
        "def df(x):\n",
        "    y1 = -(x**2+x+1)*(np.sin(x))**2\n",
        "    y2 = (x**2+x+1)*(np.cos(x))**2\n",
        "    y3 = (2*x+1)*np.sin(x)*np.cos(x)\n",
        "    y = y1+y2+y3\n",
        "    return y\n",
        "# Визначаємо початкову точку\n",
        "c = -1.4\n",
        "# Визначаємо точність розв'язку\n",
        "h = 0.001\n",
        "# Зберігаємо результати обчислень\n",
        "data_C = [c]\n",
        "data_F_C = [f(c)]\n",
        "# Перевіряємо досягнення точності\n",
        "while abs(f(c)) > h:\n",
        "    # Точка, де дотична перетинає вісь 0x\n",
        "    c -= f(c)/df(c)\n",
        "    # Зберігаємо результати обчислень\n",
        "    data_C.append(c)\n",
        "    data_F_C.append(f(c))\n",
        "# Відображаємо результати обчислень\n",
        "print('Результати обчислень')\n",
        "print()\n",
        "data = pd.DataFrame({'c': data_C, 'F(c)': data_F_C})\n",
        "print(data)\n",
        "# Відображаємо наближений корінь рівняння\n",
        "print()\n",
        "print('В точці с = ', c, ', f(c) = ', f(c))"
      ],
      "metadata": {
        "colab": {
          "base_uri": "https://localhost:8080/"
        },
        "id": "WeGQjbjW2HDz",
        "outputId": "7fd55bf4-4d4c-43ea-ce09-3fbf365aa5c5"
      },
      "execution_count": null,
      "outputs": [
        {
          "output_type": "stream",
          "name": "stdout",
          "text": [
            "Результати обчислень\n",
            "\n",
            "          c      F(c)\n",
            "0 -1.400000 -0.261291\n",
            "1 -1.623636  0.106144\n",
            "2 -1.573564  0.005266\n",
            "3 -1.570805  0.000016\n",
            "\n",
            "В точці с =  -1.5708049170979717 , f(c) =  1.6292567852764437e-05\n"
          ]
        }
      ]
    },
    {
      "cell_type": "markdown",
      "source": [
        "5. Метод Ньютона (дотичних)"
      ],
      "metadata": {
        "id": "qjI38bTp0xCo"
      }
    },
    {
      "cell_type": "code",
      "source": [
        "import numpy as np\n",
        "import scipy.optimize as sp\n",
        "\n",
        "def f(x):\n",
        "    y = np.cos(x)*np.sin(x)*(x**2+x+1)\n",
        "    return y\n",
        "\n",
        "def df(x):# Обчислення похідної\n",
        "    y1 = -(x**2+x+1)*(np.sin(x))**2\n",
        "    y2 = (x**2+x+1)*(np.cos(x))**2\n",
        "    y3 = (2*x+1)*np.sin(x)*np.cos(x)\n",
        "    y = y1+y2+y3\n",
        "    return y\n",
        "\n",
        "x0 = -1.4\n",
        "x1 = 1.4\n",
        "\n",
        "x_0 = sp.newton(f, x0, df, tol=1.e-3, maxiter=50)\n",
        "x_1 = sp.newton(f, x1, df, tol=1.e-3, maxiter=50)\n",
        "\n",
        "print('The approximate solution x is:', x_0)\n",
        "print('And the value f(x_0) is:', f(x_0))\n",
        "\n",
        "print('The approximate solution x is:', x_1)\n",
        "print('And the value f(x_0) is:', f(x_1))"
      ],
      "metadata": {
        "colab": {
          "base_uri": "https://localhost:8080/"
        },
        "id": "AonZxq_H0m6-",
        "outputId": "7acab5b7-6894-4cb1-b0d3-217d498bae02"
      },
      "execution_count": null,
      "outputs": [
        {
          "output_type": "stream",
          "name": "stdout",
          "text": [
            "The approximate solution x is: -1.5707963268782201\n",
            "And the value f(x_0) is: 1.5803176499052036e-10\n",
            "The approximate solution x is: 1.5707963267958693\n",
            "And the value f(x_0) is: -4.9007361645997675e-12\n"
          ]
        }
      ]
    },
    {
      "cell_type": "markdown",
      "source": [
        " # Знаходження коренів рівняння за допомогою бібліотеки SymPy"
      ],
      "metadata": {
        "id": "pvK9N9TH1QD-"
      }
    },
    {
      "cell_type": "code",
      "source": [
        "import sympy as sym\n",
        "\n",
        "x = sym.Symbol('x')\n",
        "\n",
        "y = sym.cos(x)*sym.sin(x)*(x**2+x+1)\n",
        "\n",
        "s = sym.solve(y)\n",
        "\n",
        "print(s)"
      ],
      "metadata": {
        "colab": {
          "base_uri": "https://localhost:8080/"
        },
        "id": "PuAp1WCr08qt",
        "outputId": "36c578b1-b0b4-40d5-8142-44bf252e747d"
      },
      "execution_count": null,
      "outputs": [
        {
          "output_type": "stream",
          "name": "stdout",
          "text": [
            "[0, pi/2, pi, 3*pi/2, -1/2 - sqrt(3)*I/2, -1/2 + sqrt(3)*I/2]\n"
          ]
        }
      ]
    },
    {
      "cell_type": "code",
      "source": [
        "import sympy as sym\n",
        "\n",
        "x, a, b, c = sym.symbols('x, a, b, c')\n",
        "\n",
        "y = a * x**2 + b * x + c\n",
        "\n",
        "s = sym.solve(y, x)\n",
        "\n",
        "print(s)"
      ],
      "metadata": {
        "colab": {
          "base_uri": "https://localhost:8080/"
        },
        "id": "Y0d-uHtp1c7r",
        "outputId": "42a681c2-3c44-4db2-dbe7-7c1615e9bbe9"
      },
      "execution_count": null,
      "outputs": [
        {
          "output_type": "stream",
          "name": "stdout",
          "text": [
            "[(-b - sqrt(-4*a*c + b**2))/(2*a), (-b + sqrt(-4*a*c + b**2))/(2*a)]\n"
          ]
        }
      ]
    },
    {
      "cell_type": "markdown",
      "source": [],
      "metadata": {
        "id": "mk1oBvYj1GC2"
      }
    },
    {
      "cell_type": "code",
      "source": [
        "!pip install numdifftools"
      ],
      "metadata": {
        "colab": {
          "base_uri": "https://localhost:8080/"
        },
        "id": "yiLJNuM3Cq0-",
        "outputId": "1eda0db4-91ba-4867-e1a8-d4c0b5384794"
      },
      "execution_count": 1,
      "outputs": [
        {
          "output_type": "stream",
          "name": "stdout",
          "text": [
            "Collecting numdifftools\n",
            "  Downloading numdifftools-0.9.41-py2.py3-none-any.whl.metadata (39 kB)\n",
            "Requirement already satisfied: numpy>=1.9 in /usr/local/lib/python3.12/dist-packages (from numdifftools) (2.0.2)\n",
            "Requirement already satisfied: scipy>=0.8 in /usr/local/lib/python3.12/dist-packages (from numdifftools) (1.16.1)\n",
            "Downloading numdifftools-0.9.41-py2.py3-none-any.whl (100 kB)\n",
            "\u001b[2K   \u001b[90m━━━━━━━━━━━━━━━━━━━━━━━━━━━━━━━━━━━━━━━━\u001b[0m \u001b[32m100.2/100.2 kB\u001b[0m \u001b[31m4.1 MB/s\u001b[0m eta \u001b[36m0:00:00\u001b[0m\n",
            "\u001b[?25hInstalling collected packages: numdifftools\n",
            "Successfully installed numdifftools-0.9.41\n"
          ]
        }
      ]
    },
    {
      "cell_type": "code",
      "source": [
        "#Лабораторна робота 2\n",
        "#Відокремлення коренів\n",
        "import numpy as np\n",
        "import numdifftools as nd\n",
        "\n",
        "def f(x):\n",
        "    return 3*x**4+4*x**3-12*x**2-5\n",
        "\n",
        "\n",
        "def find_segments(): #відокремлюємо корені\n",
        "    search_range = np.arange(-5, 5, 1)\n",
        "\n",
        "    a = None\n",
        "    previous_x = None\n",
        "    current_x  = None\n",
        "    segments = []\n",
        "\n",
        "    for x in search_range:\n",
        "        x = round(x, 4)\n",
        "        current_x = f(x)\n",
        "        if previous_x != None and previous_x * current_x < 0:\n",
        "            segments.append((a, x))\n",
        "        a = x\n",
        "        previous_x = current_x\n",
        "    return segments\n",
        "\n",
        "segments = find_segments()\n",
        "for a, b in segments:\n",
        "    print(f'Found segment:  [{a}, {b}]')\n"
      ],
      "metadata": {
        "colab": {
          "base_uri": "https://localhost:8080/"
        },
        "id": "L-9dn4npCso-",
        "outputId": "37990d6a-288d-4155-aad6-a44e2361e8a9"
      },
      "execution_count": 4,
      "outputs": [
        {
          "output_type": "stream",
          "name": "stdout",
          "text": [
            "Found segment:  [-3, -2]\n",
            "Found segment:  [1, 2]\n"
          ]
        }
      ]
    },
    {
      "cell_type": "code",
      "source": [
        "import numpy as np\n",
        "import matplotlib.pyplot as plt\n",
        "\n",
        "# Визначення функції\n",
        "def f(x):\n",
        "    return 3*x**4+4*x**3-12*x**2-5\n",
        "\n",
        "# Генерація значень x\n",
        "x = np.linspace(-4, 3, 100)\n",
        "\n",
        "# Генерація значень y\n",
        "y = f(x)\n",
        "\n",
        "# Побудова графіка\n",
        "plt.figure(figsize=(8, 6))\n",
        "plt.plot(x, y, label='3*x**4+4*x**3-12*x**2-5', color='blue')\n",
        "plt.title('Графік функції 3*x**4+4*x**3-12*x**2-5')\n",
        "plt.xlabel('x')\n",
        "plt.ylabel('f(x)')\n",
        "\n",
        "# Додавання осей з стрілками\n",
        "plt.axhline(0, color='black', linewidth=0.5)\n",
        "plt.axvline(0, color='black', linewidth=0.5)\n",
        "\n",
        "plt.text(2.05, -4, 'x', ha='center', va='center')\n",
        "plt.text(-0.3, 190, 'y', ha='center', va='center')\n",
        "\n",
        "plt.grid(True)\n",
        "plt.legend()\n",
        "plt.show()\n"
      ],
      "metadata": {
        "colab": {
          "base_uri": "https://localhost:8080/",
          "height": 564
        },
        "id": "7zUI3d1xZXar",
        "outputId": "b2baf0be-a0f9-4716-a0c2-afa130e1bd49"
      },
      "execution_count": 7,
      "outputs": [
        {
          "output_type": "display_data",
          "data": {
            "text/plain": [
              "<Figure size 800x600 with 1 Axes>"
            ],
            "image/png": "[encoded data removed]"
          },
          "metadata": {}
        }
      ]
    },
    {
      "cell_type": "markdown",
      "source": [
        "![image.png](data:image/png;base64,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)"
      ],
      "metadata": {
        "id": "MAZwtCTmnSm9"
      }
    },
    {
      "cell_type": "code",
      "source": [
        "#Лабораторна робота. Метод половинного ділення, хорд\n",
        "\n",
        "\n",
        "def rec(a, b, eps):  # метод половинного ділення\n",
        "    while (abs(a - b) > eps):\n",
        "        if f(a) * f((a + b) / 2) < 0:\n",
        "            b = (a + b) / 2\n",
        "        else:\n",
        "            a = (a + b) / 2\n",
        "        x = (a + b) / 2\n",
        "\n",
        "    print('x= ', round(x, 5), '  -   Half division method')\n"
      ],
      "metadata": {
        "id": "BgjK94O9Cfxe"
      },
      "execution_count": null,
      "outputs": []
    },
    {
      "cell_type": "code",
      "source": [
        "def hord(a, b, eps):  # метод хорд\n",
        "    derivative_f = nd.Derivative(f, n=1)\n",
        "    if f(a) * derivative_f(a) > 0:\n",
        "        x0 = a\n",
        "        xi = b\n",
        "    else:\n",
        "        x0 = b\n",
        "        xi = a\n",
        "    xi_1 = xi - (xi - x0) * f(xi) / (f(xi) - f(x0))\n",
        "    while (abs(xi_1 - xi) > eps):\n",
        "        xi = xi_1\n",
        "        xi_1 = xi - (xi - x0) * f(xi) / (f(xi) - f(x0))\n",
        "    print('x= ', round(xi_1, 5), '  -   Chord method')\n"
      ],
      "metadata": {
        "id": "Sz_KWVf7D2tL"
      },
      "execution_count": null,
      "outputs": []
    },
    {
      "cell_type": "code",
      "source": [
        "if __name__ == \"__main__\":\n",
        "    a1, b1 = -2, -1\n",
        "    a2, b2 = 0, 1\n",
        "    eps = 0.001\n",
        "    print(\"Розв'язки на відрізку [-2,-1]\")\n",
        "    rec(a1, b1, eps)\n",
        "    hord(a1, b1, eps)\n",
        "    print(\"\\n Розв'язки на відрізку [0,1]\")\n",
        "    rec(a2, b2, eps)\n",
        "    hord(a2, b2, eps)"
      ],
      "metadata": {
        "id": "upx7R4yoFZj_",
        "outputId": "6b375adc-74b6-4d6a-dc21-04f12313afcb",
        "colab": {
          "base_uri": "https://localhost:8080/"
        }
      },
      "execution_count": null,
      "outputs": [
        {
          "output_type": "stream",
          "name": "stdout",
          "text": [
            "Розв'язки на відрізку [-2,-1]\n",
            "x=  -1.34521   -   Half division method\n",
            "x=  -1.34509   -   Chord method\n",
            "\n",
            " Розв'язки на відрізку [0,1]\n",
            "x=  0.79053   -   Half division method\n",
            "x=  0.7908   -   Chord method\n"
          ]
        }
      ]
    },
    {
      "cell_type": "code",
      "source": [
        "#Лабораторна робота 3. Метод Ньютона (дотичних). Комбінований метод\n",
        "\n",
        "def nuton(a, b, eps, f):\n",
        "    df2 = nd.Derivative(f, n=2)(b)  # Отримуємо значення похідної другого порядку в точці b\n",
        "    if f(b) * df2 > 0:\n",
        "        xi = b\n",
        "    else:\n",
        "        xi = a\n",
        "    df = nd.Derivative(f, n=1)(xi)  # Отримуємо значення похідної першого порядку в точці xi\n",
        "    xi_1 = xi - f(xi) / df\n",
        "    while abs(xi_1 - xi) > eps:  # перевіряємо точність\n",
        "        xi = xi_1\n",
        "        xi_1 = xi - f(xi) / df\n",
        "    print('Метод Ньютона, x = ', xi_1.round(4))\n"
      ],
      "metadata": {
        "id": "uz6OF8g2C-vY"
      },
      "execution_count": null,
      "outputs": []
    },
    {
      "cell_type": "code",
      "source": [
        "def komb(a, b, eps, f):\n",
        "    df2 = nd.Derivative(f, n=2)(a)\n",
        "    if f(a) * df2 > 0:\n",
        "        a0 = a\n",
        "        b0 = b\n",
        "    else:\n",
        "        a0 = b\n",
        "        b0 = a\n",
        "    ai = a0\n",
        "    bi = b0\n",
        "    while abs(ai - bi) > eps:\n",
        "        ai_1 = ai - f(ai) * (bi - ai) / (f(bi) - f(ai))\n",
        "        bi_1 = bi - f(bi) / nd.Derivative(f, n=1)(bi)\n",
        "        ai = ai_1\n",
        "        bi = bi_1\n",
        "    x = (ai_1 + bi_1) / 2\n",
        "\n",
        "    print('Комбінований метод, x = ', x.round(4))\n"
      ],
      "metadata": {
        "id": "M2T4FA4ifyy_"
      },
      "execution_count": null,
      "outputs": []
    },
    {
      "cell_type": "code",
      "source": [
        "if __name__ == \"__main__\":\n",
        "    a1, b1 = -2, -1\n",
        "    a2, b2 = 0, 1\n",
        "    eps = 0.001\n",
        "\n",
        "    print(\"Розв'язання на відрізку [-2, -1]\")\n",
        "    nuton(a1, b1, eps, f)\n",
        "    komb(a1, b1, eps, f)\n",
        "    print(\"\\n Розв'язання на відрізку [0, 1]\")\n",
        "    nuton(a2, b2, eps, f)\n",
        "    komb(a2, b2, eps, f)"
      ],
      "metadata": {
        "colab": {
          "base_uri": "https://localhost:8080/"
        },
        "id": "zrxTpvysf0zN",
        "outputId": "0e1afa74-0294-41c2-a7bc-28169da1aafc"
      },
      "execution_count": null,
      "outputs": [
        {
          "output_type": "stream",
          "name": "stdout",
          "text": [
            "Розв'язання на відрізку [-2, -1]\n",
            "Метод Ньютона, x =  -1.3479\n",
            "Комбінований метод, x =  -1.3447\n",
            "\n",
            " Розв'язання на відрізку [0, 1]\n",
            "Метод Ньютона, x =  0.7915\n",
            "Комбінований метод, x =  0.7909\n"
          ]
        }
      ]
    }
  ]
}